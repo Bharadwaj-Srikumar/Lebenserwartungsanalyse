{
 "cells": [
  {
   "cell_type": "markdown",
   "id": "002a34af",
   "metadata": {},
   "source": [
    "## Imputation fehlenden Daten im Lebenserwartungsdatensatz"
   ]
  },
  {
   "cell_type": "code",
   "execution_count": 221,
   "id": "14e6bd0c",
   "metadata": {},
   "outputs": [],
   "source": [
    "import pandas as pd\n",
    "import numpy as np\n",
    "import seaborn as sns\n",
    "import matplotlib.pyplot as plt\n",
    "%matplotlib inline"
   ]
  },
  {
   "cell_type": "code",
   "execution_count": 222,
   "id": "fc3fda97",
   "metadata": {},
   "outputs": [],
   "source": [
    "df = pd.read_csv('/Users/bhara/Datasets/Lebenserwartung.csv')"
   ]
  },
  {
   "cell_type": "code",
   "execution_count": 223,
   "id": "c87b596d",
   "metadata": {},
   "outputs": [
    {
     "data": {
      "text/html": [
       "<div>\n",
       "<style scoped>\n",
       "    .dataframe tbody tr th:only-of-type {\n",
       "        vertical-align: middle;\n",
       "    }\n",
       "\n",
       "    .dataframe tbody tr th {\n",
       "        vertical-align: top;\n",
       "    }\n",
       "\n",
       "    .dataframe thead th {\n",
       "        text-align: right;\n",
       "    }\n",
       "</style>\n",
       "<table border=\"1\" class=\"dataframe\">\n",
       "  <thead>\n",
       "    <tr style=\"text-align: right;\">\n",
       "      <th></th>\n",
       "      <th>Country</th>\n",
       "      <th>Year</th>\n",
       "      <th>Status</th>\n",
       "      <th>Life expectancy</th>\n",
       "      <th>Adult Mortality</th>\n",
       "      <th>infant deaths</th>\n",
       "      <th>Alcohol</th>\n",
       "      <th>percentage expenditure</th>\n",
       "      <th>Hepatitis B</th>\n",
       "      <th>Measles</th>\n",
       "      <th>BMI</th>\n",
       "      <th>under-five deaths</th>\n",
       "      <th>Polio</th>\n",
       "      <th>Total expenditure</th>\n",
       "      <th>Diphtheria</th>\n",
       "      <th>HIV/AIDS</th>\n",
       "      <th>GDP</th>\n",
       "      <th>Population</th>\n",
       "      <th>thinness  1-19 years</th>\n",
       "      <th>thinness 5-9 years</th>\n",
       "      <th>Income composition of resources</th>\n",
       "      <th>Schooling</th>\n",
       "    </tr>\n",
       "  </thead>\n",
       "  <tbody>\n",
       "    <tr>\n",
       "      <th>0</th>\n",
       "      <td>Afghanistan</td>\n",
       "      <td>2015</td>\n",
       "      <td>Developing</td>\n",
       "      <td>65.0</td>\n",
       "      <td>263.0</td>\n",
       "      <td>62</td>\n",
       "      <td>0.01</td>\n",
       "      <td>71.279624</td>\n",
       "      <td>65.0</td>\n",
       "      <td>1154</td>\n",
       "      <td>19.1</td>\n",
       "      <td>83</td>\n",
       "      <td>6.0</td>\n",
       "      <td>8.16</td>\n",
       "      <td>65.0</td>\n",
       "      <td>0.1</td>\n",
       "      <td>584.259210</td>\n",
       "      <td>33736494.0</td>\n",
       "      <td>17.2</td>\n",
       "      <td>17.3</td>\n",
       "      <td>0.479</td>\n",
       "      <td>10.1</td>\n",
       "    </tr>\n",
       "    <tr>\n",
       "      <th>1</th>\n",
       "      <td>Afghanistan</td>\n",
       "      <td>2014</td>\n",
       "      <td>Developing</td>\n",
       "      <td>59.9</td>\n",
       "      <td>271.0</td>\n",
       "      <td>64</td>\n",
       "      <td>0.01</td>\n",
       "      <td>73.523582</td>\n",
       "      <td>62.0</td>\n",
       "      <td>492</td>\n",
       "      <td>18.6</td>\n",
       "      <td>86</td>\n",
       "      <td>58.0</td>\n",
       "      <td>8.18</td>\n",
       "      <td>62.0</td>\n",
       "      <td>0.1</td>\n",
       "      <td>612.696514</td>\n",
       "      <td>327582.0</td>\n",
       "      <td>17.5</td>\n",
       "      <td>17.5</td>\n",
       "      <td>0.476</td>\n",
       "      <td>10.0</td>\n",
       "    </tr>\n",
       "    <tr>\n",
       "      <th>2</th>\n",
       "      <td>Afghanistan</td>\n",
       "      <td>2013</td>\n",
       "      <td>Developing</td>\n",
       "      <td>59.9</td>\n",
       "      <td>268.0</td>\n",
       "      <td>66</td>\n",
       "      <td>0.01</td>\n",
       "      <td>73.219243</td>\n",
       "      <td>64.0</td>\n",
       "      <td>430</td>\n",
       "      <td>18.1</td>\n",
       "      <td>89</td>\n",
       "      <td>62.0</td>\n",
       "      <td>8.13</td>\n",
       "      <td>64.0</td>\n",
       "      <td>0.1</td>\n",
       "      <td>631.744976</td>\n",
       "      <td>31731688.0</td>\n",
       "      <td>17.7</td>\n",
       "      <td>17.7</td>\n",
       "      <td>0.470</td>\n",
       "      <td>9.9</td>\n",
       "    </tr>\n",
       "    <tr>\n",
       "      <th>3</th>\n",
       "      <td>Afghanistan</td>\n",
       "      <td>2012</td>\n",
       "      <td>Developing</td>\n",
       "      <td>59.5</td>\n",
       "      <td>272.0</td>\n",
       "      <td>69</td>\n",
       "      <td>0.01</td>\n",
       "      <td>78.184215</td>\n",
       "      <td>67.0</td>\n",
       "      <td>2787</td>\n",
       "      <td>17.6</td>\n",
       "      <td>93</td>\n",
       "      <td>67.0</td>\n",
       "      <td>8.52</td>\n",
       "      <td>67.0</td>\n",
       "      <td>0.1</td>\n",
       "      <td>669.959000</td>\n",
       "      <td>3696958.0</td>\n",
       "      <td>17.9</td>\n",
       "      <td>18.0</td>\n",
       "      <td>0.463</td>\n",
       "      <td>9.8</td>\n",
       "    </tr>\n",
       "    <tr>\n",
       "      <th>4</th>\n",
       "      <td>Afghanistan</td>\n",
       "      <td>2011</td>\n",
       "      <td>Developing</td>\n",
       "      <td>59.2</td>\n",
       "      <td>275.0</td>\n",
       "      <td>71</td>\n",
       "      <td>0.01</td>\n",
       "      <td>7.097109</td>\n",
       "      <td>68.0</td>\n",
       "      <td>3013</td>\n",
       "      <td>17.2</td>\n",
       "      <td>97</td>\n",
       "      <td>68.0</td>\n",
       "      <td>7.87</td>\n",
       "      <td>68.0</td>\n",
       "      <td>0.1</td>\n",
       "      <td>63.537231</td>\n",
       "      <td>2978599.0</td>\n",
       "      <td>18.2</td>\n",
       "      <td>18.2</td>\n",
       "      <td>0.454</td>\n",
       "      <td>9.5</td>\n",
       "    </tr>\n",
       "  </tbody>\n",
       "</table>\n",
       "</div>"
      ],
      "text/plain": [
       "       Country  Year      Status  Life expectancy   Adult Mortality  \\\n",
       "0  Afghanistan  2015  Developing              65.0            263.0   \n",
       "1  Afghanistan  2014  Developing              59.9            271.0   \n",
       "2  Afghanistan  2013  Developing              59.9            268.0   \n",
       "3  Afghanistan  2012  Developing              59.5            272.0   \n",
       "4  Afghanistan  2011  Developing              59.2            275.0   \n",
       "\n",
       "   infant deaths  Alcohol  percentage expenditure  Hepatitis B  Measles   \\\n",
       "0             62     0.01               71.279624         65.0      1154   \n",
       "1             64     0.01               73.523582         62.0       492   \n",
       "2             66     0.01               73.219243         64.0       430   \n",
       "3             69     0.01               78.184215         67.0      2787   \n",
       "4             71     0.01                7.097109         68.0      3013   \n",
       "\n",
       "    BMI   under-five deaths   Polio  Total expenditure  Diphtheria   \\\n",
       "0   19.1                  83    6.0               8.16         65.0   \n",
       "1   18.6                  86   58.0               8.18         62.0   \n",
       "2   18.1                  89   62.0               8.13         64.0   \n",
       "3   17.6                  93   67.0               8.52         67.0   \n",
       "4   17.2                  97   68.0               7.87         68.0   \n",
       "\n",
       "    HIV/AIDS         GDP  Population   thinness  1-19 years  \\\n",
       "0        0.1  584.259210  33736494.0                   17.2   \n",
       "1        0.1  612.696514    327582.0                   17.5   \n",
       "2        0.1  631.744976  31731688.0                   17.7   \n",
       "3        0.1  669.959000   3696958.0                   17.9   \n",
       "4        0.1   63.537231   2978599.0                   18.2   \n",
       "\n",
       "    thinness 5-9 years  Income composition of resources  Schooling  \n",
       "0                 17.3                            0.479       10.1  \n",
       "1                 17.5                            0.476       10.0  \n",
       "2                 17.7                            0.470        9.9  \n",
       "3                 18.0                            0.463        9.8  \n",
       "4                 18.2                            0.454        9.5  "
      ]
     },
     "execution_count": 223,
     "metadata": {},
     "output_type": "execute_result"
    }
   ],
   "source": [
    "pd.set_option('display.max_columns', None)\n",
    "df.head()"
   ]
  },
  {
   "cell_type": "code",
   "execution_count": 224,
   "id": "d28f0fdb",
   "metadata": {
    "scrolled": true
   },
   "outputs": [
    {
     "name": "stdout",
     "output_type": "stream",
     "text": [
      "Anzahl der Zeilen im Datensatz: 2938\n",
      "Anzahl der Spalten im Datensatz: 22\n"
     ]
    }
   ],
   "source": [
    "print('Anzahl der Zeilen im Datensatz:',df.shape[0])\n",
    "print('Anzahl der Spalten im Datensatz:',df.shape[1])"
   ]
  },
  {
   "cell_type": "code",
   "execution_count": 225,
   "id": "bf5491c9",
   "metadata": {
    "scrolled": false
   },
   "outputs": [
    {
     "data": {
      "text/html": [
       "<div>\n",
       "<style scoped>\n",
       "    .dataframe tbody tr th:only-of-type {\n",
       "        vertical-align: middle;\n",
       "    }\n",
       "\n",
       "    .dataframe tbody tr th {\n",
       "        vertical-align: top;\n",
       "    }\n",
       "\n",
       "    .dataframe thead th {\n",
       "        text-align: right;\n",
       "    }\n",
       "</style>\n",
       "<table border=\"1\" class=\"dataframe\">\n",
       "  <thead>\n",
       "    <tr style=\"text-align: right;\">\n",
       "      <th></th>\n",
       "      <th>Year</th>\n",
       "      <th>Life expectancy</th>\n",
       "      <th>Adult Mortality</th>\n",
       "      <th>infant deaths</th>\n",
       "      <th>Alcohol</th>\n",
       "      <th>percentage expenditure</th>\n",
       "      <th>Hepatitis B</th>\n",
       "      <th>Measles</th>\n",
       "      <th>BMI</th>\n",
       "      <th>under-five deaths</th>\n",
       "      <th>Polio</th>\n",
       "      <th>Total expenditure</th>\n",
       "      <th>Diphtheria</th>\n",
       "      <th>HIV/AIDS</th>\n",
       "      <th>GDP</th>\n",
       "      <th>Population</th>\n",
       "      <th>thinness  1-19 years</th>\n",
       "      <th>thinness 5-9 years</th>\n",
       "      <th>Income composition of resources</th>\n",
       "      <th>Schooling</th>\n",
       "    </tr>\n",
       "  </thead>\n",
       "  <tbody>\n",
       "    <tr>\n",
       "      <th>count</th>\n",
       "      <td>2938.000000</td>\n",
       "      <td>2928.000000</td>\n",
       "      <td>2928.000000</td>\n",
       "      <td>2938.000000</td>\n",
       "      <td>2744.000000</td>\n",
       "      <td>2938.000000</td>\n",
       "      <td>2385.000000</td>\n",
       "      <td>2938.000000</td>\n",
       "      <td>2904.000000</td>\n",
       "      <td>2938.000000</td>\n",
       "      <td>2919.000000</td>\n",
       "      <td>2712.00000</td>\n",
       "      <td>2919.000000</td>\n",
       "      <td>2938.000000</td>\n",
       "      <td>2490.000000</td>\n",
       "      <td>2.286000e+03</td>\n",
       "      <td>2904.000000</td>\n",
       "      <td>2904.000000</td>\n",
       "      <td>2771.000000</td>\n",
       "      <td>2775.000000</td>\n",
       "    </tr>\n",
       "    <tr>\n",
       "      <th>mean</th>\n",
       "      <td>2007.518720</td>\n",
       "      <td>69.224932</td>\n",
       "      <td>164.796448</td>\n",
       "      <td>30.303948</td>\n",
       "      <td>4.602861</td>\n",
       "      <td>738.251295</td>\n",
       "      <td>80.940461</td>\n",
       "      <td>2419.592240</td>\n",
       "      <td>38.321247</td>\n",
       "      <td>42.035739</td>\n",
       "      <td>82.550188</td>\n",
       "      <td>5.93819</td>\n",
       "      <td>82.324084</td>\n",
       "      <td>1.742103</td>\n",
       "      <td>7483.158469</td>\n",
       "      <td>1.275338e+07</td>\n",
       "      <td>4.839704</td>\n",
       "      <td>4.870317</td>\n",
       "      <td>0.627551</td>\n",
       "      <td>11.992793</td>\n",
       "    </tr>\n",
       "    <tr>\n",
       "      <th>std</th>\n",
       "      <td>4.613841</td>\n",
       "      <td>9.523867</td>\n",
       "      <td>124.292079</td>\n",
       "      <td>117.926501</td>\n",
       "      <td>4.052413</td>\n",
       "      <td>1987.914858</td>\n",
       "      <td>25.070016</td>\n",
       "      <td>11467.272489</td>\n",
       "      <td>20.044034</td>\n",
       "      <td>160.445548</td>\n",
       "      <td>23.428046</td>\n",
       "      <td>2.49832</td>\n",
       "      <td>23.716912</td>\n",
       "      <td>5.077785</td>\n",
       "      <td>14270.169342</td>\n",
       "      <td>6.101210e+07</td>\n",
       "      <td>4.420195</td>\n",
       "      <td>4.508882</td>\n",
       "      <td>0.210904</td>\n",
       "      <td>3.358920</td>\n",
       "    </tr>\n",
       "    <tr>\n",
       "      <th>min</th>\n",
       "      <td>2000.000000</td>\n",
       "      <td>36.300000</td>\n",
       "      <td>1.000000</td>\n",
       "      <td>0.000000</td>\n",
       "      <td>0.010000</td>\n",
       "      <td>0.000000</td>\n",
       "      <td>1.000000</td>\n",
       "      <td>0.000000</td>\n",
       "      <td>1.000000</td>\n",
       "      <td>0.000000</td>\n",
       "      <td>3.000000</td>\n",
       "      <td>0.37000</td>\n",
       "      <td>2.000000</td>\n",
       "      <td>0.100000</td>\n",
       "      <td>1.681350</td>\n",
       "      <td>3.400000e+01</td>\n",
       "      <td>0.100000</td>\n",
       "      <td>0.100000</td>\n",
       "      <td>0.000000</td>\n",
       "      <td>0.000000</td>\n",
       "    </tr>\n",
       "    <tr>\n",
       "      <th>25%</th>\n",
       "      <td>2004.000000</td>\n",
       "      <td>63.100000</td>\n",
       "      <td>74.000000</td>\n",
       "      <td>0.000000</td>\n",
       "      <td>0.877500</td>\n",
       "      <td>4.685343</td>\n",
       "      <td>77.000000</td>\n",
       "      <td>0.000000</td>\n",
       "      <td>19.300000</td>\n",
       "      <td>0.000000</td>\n",
       "      <td>78.000000</td>\n",
       "      <td>4.26000</td>\n",
       "      <td>78.000000</td>\n",
       "      <td>0.100000</td>\n",
       "      <td>463.935626</td>\n",
       "      <td>1.957932e+05</td>\n",
       "      <td>1.600000</td>\n",
       "      <td>1.500000</td>\n",
       "      <td>0.493000</td>\n",
       "      <td>10.100000</td>\n",
       "    </tr>\n",
       "    <tr>\n",
       "      <th>50%</th>\n",
       "      <td>2008.000000</td>\n",
       "      <td>72.100000</td>\n",
       "      <td>144.000000</td>\n",
       "      <td>3.000000</td>\n",
       "      <td>3.755000</td>\n",
       "      <td>64.912906</td>\n",
       "      <td>92.000000</td>\n",
       "      <td>17.000000</td>\n",
       "      <td>43.500000</td>\n",
       "      <td>4.000000</td>\n",
       "      <td>93.000000</td>\n",
       "      <td>5.75500</td>\n",
       "      <td>93.000000</td>\n",
       "      <td>0.100000</td>\n",
       "      <td>1766.947595</td>\n",
       "      <td>1.386542e+06</td>\n",
       "      <td>3.300000</td>\n",
       "      <td>3.300000</td>\n",
       "      <td>0.677000</td>\n",
       "      <td>12.300000</td>\n",
       "    </tr>\n",
       "    <tr>\n",
       "      <th>75%</th>\n",
       "      <td>2012.000000</td>\n",
       "      <td>75.700000</td>\n",
       "      <td>228.000000</td>\n",
       "      <td>22.000000</td>\n",
       "      <td>7.702500</td>\n",
       "      <td>441.534144</td>\n",
       "      <td>97.000000</td>\n",
       "      <td>360.250000</td>\n",
       "      <td>56.200000</td>\n",
       "      <td>28.000000</td>\n",
       "      <td>97.000000</td>\n",
       "      <td>7.49250</td>\n",
       "      <td>97.000000</td>\n",
       "      <td>0.800000</td>\n",
       "      <td>5910.806335</td>\n",
       "      <td>7.420359e+06</td>\n",
       "      <td>7.200000</td>\n",
       "      <td>7.200000</td>\n",
       "      <td>0.779000</td>\n",
       "      <td>14.300000</td>\n",
       "    </tr>\n",
       "    <tr>\n",
       "      <th>max</th>\n",
       "      <td>2015.000000</td>\n",
       "      <td>89.000000</td>\n",
       "      <td>723.000000</td>\n",
       "      <td>1800.000000</td>\n",
       "      <td>17.870000</td>\n",
       "      <td>19479.911610</td>\n",
       "      <td>99.000000</td>\n",
       "      <td>212183.000000</td>\n",
       "      <td>87.300000</td>\n",
       "      <td>2500.000000</td>\n",
       "      <td>99.000000</td>\n",
       "      <td>17.60000</td>\n",
       "      <td>99.000000</td>\n",
       "      <td>50.600000</td>\n",
       "      <td>119172.741800</td>\n",
       "      <td>1.293859e+09</td>\n",
       "      <td>27.700000</td>\n",
       "      <td>28.600000</td>\n",
       "      <td>0.948000</td>\n",
       "      <td>20.700000</td>\n",
       "    </tr>\n",
       "  </tbody>\n",
       "</table>\n",
       "</div>"
      ],
      "text/plain": [
       "              Year  Life expectancy   Adult Mortality  infant deaths  \\\n",
       "count  2938.000000       2928.000000      2928.000000    2938.000000   \n",
       "mean   2007.518720         69.224932       164.796448      30.303948   \n",
       "std       4.613841          9.523867       124.292079     117.926501   \n",
       "min    2000.000000         36.300000         1.000000       0.000000   \n",
       "25%    2004.000000         63.100000        74.000000       0.000000   \n",
       "50%    2008.000000         72.100000       144.000000       3.000000   \n",
       "75%    2012.000000         75.700000       228.000000      22.000000   \n",
       "max    2015.000000         89.000000       723.000000    1800.000000   \n",
       "\n",
       "           Alcohol  percentage expenditure  Hepatitis B       Measles   \\\n",
       "count  2744.000000             2938.000000  2385.000000    2938.000000   \n",
       "mean      4.602861              738.251295    80.940461    2419.592240   \n",
       "std       4.052413             1987.914858    25.070016   11467.272489   \n",
       "min       0.010000                0.000000     1.000000       0.000000   \n",
       "25%       0.877500                4.685343    77.000000       0.000000   \n",
       "50%       3.755000               64.912906    92.000000      17.000000   \n",
       "75%       7.702500              441.534144    97.000000     360.250000   \n",
       "max      17.870000            19479.911610    99.000000  212183.000000   \n",
       "\n",
       "              BMI   under-five deaths         Polio  Total expenditure  \\\n",
       "count  2904.000000         2938.000000  2919.000000         2712.00000   \n",
       "mean     38.321247           42.035739    82.550188            5.93819   \n",
       "std      20.044034          160.445548    23.428046            2.49832   \n",
       "min       1.000000            0.000000     3.000000            0.37000   \n",
       "25%      19.300000            0.000000    78.000000            4.26000   \n",
       "50%      43.500000            4.000000    93.000000            5.75500   \n",
       "75%      56.200000           28.000000    97.000000            7.49250   \n",
       "max      87.300000         2500.000000    99.000000           17.60000   \n",
       "\n",
       "       Diphtheria      HIV/AIDS            GDP    Population  \\\n",
       "count  2919.000000  2938.000000    2490.000000  2.286000e+03   \n",
       "mean     82.324084     1.742103    7483.158469  1.275338e+07   \n",
       "std      23.716912     5.077785   14270.169342  6.101210e+07   \n",
       "min       2.000000     0.100000       1.681350  3.400000e+01   \n",
       "25%      78.000000     0.100000     463.935626  1.957932e+05   \n",
       "50%      93.000000     0.100000    1766.947595  1.386542e+06   \n",
       "75%      97.000000     0.800000    5910.806335  7.420359e+06   \n",
       "max      99.000000    50.600000  119172.741800  1.293859e+09   \n",
       "\n",
       "        thinness  1-19 years   thinness 5-9 years  \\\n",
       "count            2904.000000          2904.000000   \n",
       "mean                4.839704             4.870317   \n",
       "std                 4.420195             4.508882   \n",
       "min                 0.100000             0.100000   \n",
       "25%                 1.600000             1.500000   \n",
       "50%                 3.300000             3.300000   \n",
       "75%                 7.200000             7.200000   \n",
       "max                27.700000            28.600000   \n",
       "\n",
       "       Income composition of resources    Schooling  \n",
       "count                      2771.000000  2775.000000  \n",
       "mean                          0.627551    11.992793  \n",
       "std                           0.210904     3.358920  \n",
       "min                           0.000000     0.000000  \n",
       "25%                           0.493000    10.100000  \n",
       "50%                           0.677000    12.300000  \n",
       "75%                           0.779000    14.300000  \n",
       "max                           0.948000    20.700000  "
      ]
     },
     "execution_count": 225,
     "metadata": {},
     "output_type": "execute_result"
    }
   ],
   "source": [
    "df.describe()"
   ]
  },
  {
   "cell_type": "code",
   "execution_count": 226,
   "id": "c0cdf9d2",
   "metadata": {
    "scrolled": false
   },
   "outputs": [
    {
     "data": {
      "text/plain": [
       "Country                             193\n",
       "Year                                 16\n",
       "Status                                2\n",
       "Life expectancy                     362\n",
       "Adult Mortality                     425\n",
       "infant deaths                       209\n",
       "Alcohol                            1076\n",
       "percentage expenditure             2328\n",
       "Hepatitis B                          87\n",
       "Measles                             958\n",
       " BMI                                608\n",
       "under-five deaths                   252\n",
       "Polio                                73\n",
       "Total expenditure                   818\n",
       "Diphtheria                           81\n",
       " HIV/AIDS                           200\n",
       "GDP                                2490\n",
       "Population                         2278\n",
       " thinness  1-19 years               200\n",
       " thinness 5-9 years                 207\n",
       "Income composition of resources     625\n",
       "Schooling                           173\n",
       "dtype: int64"
      ]
     },
     "execution_count": 226,
     "metadata": {},
     "output_type": "execute_result"
    }
   ],
   "source": [
    "df.nunique()"
   ]
  },
  {
   "cell_type": "markdown",
   "id": "47247194",
   "metadata": {},
   "source": [
    "Vorgehensweise:\n",
    "1. Datenbereinigung\n",
    "2. Analyse fehlender Daten\n",
    "3. Encoden nominaler Attributen\n",
    "4. Auswahl passender Datenimputationsverfahren\n",
    "5. Vergleich der Ergebnisse der Imputationsverfahren\n",
    "6. Auswahl passender Skalierungsverfahren\n",
    "7. Anpassen linerarer Regression auf dem skalierten Datensatz\n",
    "8. Analyse der allgemeinen Ergebnisse"
   ]
  },
  {
   "cell_type": "markdown",
   "id": "0d0a9744",
   "metadata": {},
   "source": [
    "### Spaltennamenbereinigung"
   ]
  },
  {
   "cell_type": "markdown",
   "id": "3761f9bb",
   "metadata": {},
   "source": [
    "#### Leerzeichen in Spalten kürzen"
   ]
  },
  {
   "cell_type": "code",
   "execution_count": 227,
   "id": "f25d7e5d",
   "metadata": {},
   "outputs": [
    {
     "name": "stdout",
     "output_type": "stream",
     "text": [
      "Spalten des Datensatzes:\n",
      " ['Country' 'Year' 'Status' 'Life expectancy ' 'Adult Mortality'\n",
      " 'infant deaths' 'Alcohol' 'percentage expenditure' 'Hepatitis B'\n",
      " 'Measles ' ' BMI ' 'under-five deaths ' 'Polio' 'Total expenditure'\n",
      " 'Diphtheria ' ' HIV/AIDS' 'GDP' 'Population' ' thinness  1-19 years'\n",
      " ' thinness 5-9 years' 'Income composition of resources' 'Schooling']\n"
     ]
    }
   ],
   "source": [
    "print('Spalten des Datensatzes:\\n',df.columns.values)"
   ]
  },
  {
   "cell_type": "code",
   "execution_count": 228,
   "id": "d3280cc7",
   "metadata": {},
   "outputs": [
    {
     "name": "stdout",
     "output_type": "stream",
     "text": [
      "Spalten des Datensatzes nach Bereinigung der Spaltennamen:\n",
      " ['Country' 'Year' 'Status' 'Life expectancy' 'Adult Mortality'\n",
      " 'infant deaths' 'Alcohol' 'percentage expenditure' 'Hepatitis B'\n",
      " 'Measles' 'BMI' 'under-five deaths' 'Polio' 'Total expenditure'\n",
      " 'Diphtheria' 'HIV/AIDS' 'GDP' 'Population' 'thinness  1-19 years'\n",
      " 'thinness 5-9 years' 'Income composition of resources' 'Schooling']\n"
     ]
    }
   ],
   "source": [
    "# Manche Spalten haben Leerzeichen entweder am Anfang oder am Ende oder an beiden Plätzen des jeweiligen Spaltennamens\n",
    "# Diese Leerzeichen müssen daher gekürzt werden\n",
    "for col in df.columns.values:\n",
    "    col_edit = col.strip()\n",
    "    df.rename(columns = {col:col_edit}, inplace = True)\n",
    "    \n",
    "print('Spalten des Datensatzes nach Bereinigung der Spaltennamen:\\n',df.columns.values)"
   ]
  },
  {
   "cell_type": "markdown",
   "id": "82982dab",
   "metadata": {},
   "source": [
    "### Analyse fehlender Werte im Datensatz"
   ]
  },
  {
   "cell_type": "code",
   "execution_count": 229,
   "id": "45ce3cd2",
   "metadata": {
    "scrolled": false
   },
   "outputs": [
    {
     "data": {
      "text/plain": [
       "<Axes: >"
      ]
     },
     "execution_count": 229,
     "metadata": {},
     "output_type": "execute_result"
    },
    {
     "data": {
      "image/png": "[encoded data removed]",
      "text/plain": [
       "<Figure size 2500x1000 with 2 Axes>"
      ]
     },
     "metadata": {},
     "output_type": "display_data"
    }
   ],
   "source": [
    "# Visualizierung der null-Werte im Datensatz\n",
    "import missingno as msno\n",
    "msno.matrix(df)"
   ]
  },
  {
   "cell_type": "code",
   "execution_count": 230,
   "id": "d5ebdf1b",
   "metadata": {},
   "outputs": [
    {
     "name": "stdout",
     "output_type": "stream",
     "text": [
      "Prozentsatz der fehlenden Werte im Datensatz:\n"
     ]
    },
    {
     "data": {
      "text/plain": [
       "Country                             0.000000\n",
       "Year                                0.000000\n",
       "Status                              0.000000\n",
       "Life expectancy                     0.340368\n",
       "Adult Mortality                     0.340368\n",
       "infant deaths                       0.000000\n",
       "Alcohol                             6.603131\n",
       "percentage expenditure              0.000000\n",
       "Hepatitis B                        18.822328\n",
       "Measles                             0.000000\n",
       "BMI                                 1.157250\n",
       "under-five deaths                   0.000000\n",
       "Polio                               0.646698\n",
       "Total expenditure                   7.692308\n",
       "Diphtheria                          0.646698\n",
       "HIV/AIDS                            0.000000\n",
       "GDP                                15.248468\n",
       "Population                         22.191967\n",
       "thinness  1-19 years                1.157250\n",
       "thinness 5-9 years                  1.157250\n",
       "Income composition of resources     5.684139\n",
       "Schooling                           5.547992\n",
       "dtype: float64"
      ]
     },
     "execution_count": 230,
     "metadata": {},
     "output_type": "execute_result"
    }
   ],
   "source": [
    "print('Prozentsatz der fehlenden Werte im Datensatz:')\n",
    "(df.isnull().sum()/df.shape[0])*100"
   ]
  },
  {
   "cell_type": "markdown",
   "id": "c2ca576e",
   "metadata": {},
   "source": [
    "1. Die Spalten 'Hepatitis B', 'GDP' und 'Population' haben null-Werte in mehr als 15% der gesamten Zeilen \n",
    "\n",
    "2. Die Spalten 'Alcohol', 'Total expenditure', 'Income composition of resources', sowie 'Schooling' haben \n",
    "auch wesentlich viele null-Werte (5-8%)\n",
    "\n",
    "3. Die Spalten 'Life expectancy', 'Adult Mortality', 'BMI', 'Polio', 'Diphtheria', 'thinness  1-19 years', \n",
    "sowie 'thinness  5-9 years' haben auch einige null-Werte (0-5%)"
   ]
  },
  {
   "cell_type": "markdown",
   "id": "8c6eaecf",
   "metadata": {},
   "source": [
    "### Es bleibt immer noch offen zu bestimmen, welche Art von fehlenden Daten sich im Datensatz befinden.\n",
    "Es gibt im Prinzip 3 Typen von fehlenden Daten\n",
    "\n",
    "1. Missing-completely-at-Random (MCAR): Wenn keine mögliche Erklärung für das Fehlen der Daten eines Attributs gefunden \n",
    "werden kann.\n",
    "\n",
    "2. Missing-at-Random (MAR): Wenn das Fehlen der Daten eines Attributs über eine andere Spalte im Datensatz erklärt \n",
    "werden kann. (Unglückliche Mitarbeiter teilen kein Feedback in einer Unternehmensfeedbackumfrage mit)\n",
    "\n",
    "3. Missing-not-at-Random (MNAR): Wenn das Fehlen der Daten eines Attributs über ein anderes, nicht im Datensatz\n",
    "vorhandenes Attribut mithilfe domänes Wissens erklärt werden kann."
   ]
  },
  {
   "cell_type": "markdown",
   "id": "9d06824b",
   "metadata": {},
   "source": [
    "#### Beziehung zw. fehlenden Werten und Entwicklungsstatus"
   ]
  },
  {
   "cell_type": "code",
   "execution_count": 231,
   "id": "530e97bb",
   "metadata": {},
   "outputs": [
    {
     "data": {
      "text/plain": [
       "Country                                  NaN\n",
       "Year                                     NaN\n",
       "Status                                   NaN\n",
       "Life expectancy                     0.000000\n",
       "Adult Mortality                     0.000000\n",
       "infant deaths                            NaN\n",
       "Alcohol                            14.432990\n",
       "percentage expenditure                   NaN\n",
       "Hepatitis B                        31.283906\n",
       "Measles                                  NaN\n",
       "BMI                                 0.000000\n",
       "under-five deaths                        NaN\n",
       "Polio                               0.000000\n",
       "Total expenditure                  14.159292\n",
       "Diphtheria                          0.000000\n",
       "HIV/AIDS                                 NaN\n",
       "GDP                                14.285714\n",
       "Population                         14.723926\n",
       "thinness  1-19 years                0.000000\n",
       "thinness 5-9 years                  0.000000\n",
       "Income composition of resources    28.742515\n",
       "Schooling                          29.447853\n",
       "dtype: float64"
      ]
     },
     "execution_count": 231,
     "metadata": {},
     "output_type": "execute_result"
    }
   ],
   "source": [
    "(df[df.Status=='Developed'].isnull().sum()/df.isnull().sum())*100"
   ]
  },
  {
   "cell_type": "code",
   "execution_count": 232,
   "id": "4209a82c",
   "metadata": {},
   "outputs": [
    {
     "data": {
      "text/plain": [
       "Country                                   NaN\n",
       "Year                                      NaN\n",
       "Status                                    NaN\n",
       "Life expectancy                    100.000000\n",
       "Adult Mortality                    100.000000\n",
       "infant deaths                             NaN\n",
       "Alcohol                             85.567010\n",
       "percentage expenditure                    NaN\n",
       "Hepatitis B                         68.716094\n",
       "Measles                                   NaN\n",
       "BMI                                100.000000\n",
       "under-five deaths                         NaN\n",
       "Polio                              100.000000\n",
       "Total expenditure                   85.840708\n",
       "Diphtheria                         100.000000\n",
       "HIV/AIDS                                  NaN\n",
       "GDP                                 85.714286\n",
       "Population                          85.276074\n",
       "thinness  1-19 years               100.000000\n",
       "thinness 5-9 years                 100.000000\n",
       "Income composition of resources     71.257485\n",
       "Schooling                           70.552147\n",
       "dtype: float64"
      ]
     },
     "execution_count": 232,
     "metadata": {},
     "output_type": "execute_result"
    }
   ],
   "source": [
    "(df[df.Status=='Developing'].isnull().sum()/df.isnull().sum())*100"
   ]
  },
  {
   "cell_type": "markdown",
   "id": "cba9acc6",
   "metadata": {},
   "source": [
    "Entwicklungsländer haben fehlende Werte in doppelt so viele Spalten (14) wie die entwickelten Länder (7).\n",
    "d.h. die Daten der 7 Spalten - 'Life expectancy', 'Adult Mortality', 'BMI', 'Polio', 'Diptheria', 'thinness  1-19 years', \n",
    "und 'thinness 5-9 years' fehlen nur, wenn das jeweilige Land ein Entwicklungsland ist."
   ]
  },
  {
   "cell_type": "code",
   "execution_count": 233,
   "id": "c83e37b1",
   "metadata": {},
   "outputs": [
    {
     "data": {
      "text/plain": [
       "Country                                   NaN\n",
       "Year                                      NaN\n",
       "Status                                    NaN\n",
       "Life expectancy                      0.000000\n",
       "Adult Mortality                      0.000000\n",
       "infant deaths                             NaN\n",
       "Alcohol                             11.855670\n",
       "percentage expenditure                    NaN\n",
       "Hepatitis B                        100.000000\n",
       "Measles                                   NaN\n",
       "BMI                                 58.823529\n",
       "under-five deaths                         NaN\n",
       "Polio                              100.000000\n",
       "Total expenditure                   16.371681\n",
       "Diphtheria                         100.000000\n",
       "HIV/AIDS                                  NaN\n",
       "GDP                                 17.187500\n",
       "Population                          10.889571\n",
       "thinness  1-19 years                58.823529\n",
       "thinness 5-9 years                  58.823529\n",
       "Income composition of resources     26.347305\n",
       "Schooling                           26.993865\n",
       "dtype: float64"
      ]
     },
     "execution_count": 233,
     "metadata": {},
     "output_type": "execute_result"
    }
   ],
   "source": [
    "# Prozentsatz der fehlenden Werte in allen Spalten, wenn 'Hepatitis B'-Werte fehlen\n",
    "(df[df['Hepatitis B'].isnull()].isnull().sum())/df.isnull().sum() * 100"
   ]
  },
  {
   "cell_type": "markdown",
   "id": "9db3fcdb",
   "metadata": {},
   "source": [
    "Daten der Spalten 'Polio' und 'Diphtheria' fehlen in 100% der Fällen, wenn 'Hepatitis B'-Daten fehlen "
   ]
  },
  {
   "cell_type": "code",
   "execution_count": 234,
   "id": "c493d820",
   "metadata": {},
   "outputs": [
    {
     "data": {
      "text/plain": [
       "Country                                   NaN\n",
       "Year                                      NaN\n",
       "Status                                    NaN\n",
       "Life expectancy                     80.000000\n",
       "Adult Mortality                     80.000000\n",
       "infant deaths                             NaN\n",
       "Alcohol                             19.587629\n",
       "percentage expenditure                    NaN\n",
       "Hepatitis B                         12.839060\n",
       "Measles                                   NaN\n",
       "BMI                                  5.882353\n",
       "under-five deaths                         NaN\n",
       "Polio                                0.000000\n",
       "Total expenditure                   31.415929\n",
       "Diphtheria                           0.000000\n",
       "HIV/AIDS                                  NaN\n",
       "GDP                                 95.089286\n",
       "Population                         100.000000\n",
       "thinness  1-19 years                 5.882353\n",
       "thinness 5-9 years                   5.882353\n",
       "Income composition of resources     99.401198\n",
       "Schooling                          100.000000\n",
       "dtype: float64"
      ]
     },
     "execution_count": 234,
     "metadata": {},
     "output_type": "execute_result"
    }
   ],
   "source": [
    "# Prozentsatz der fehlenden Werte in allen Spalten, wenn 'Population'-Werte fehlen\n",
    "(df[df['Population'].isnull()].isnull().sum())/df.isnull().sum() * 100"
   ]
  },
  {
   "cell_type": "markdown",
   "id": "a43ce636",
   "metadata": {},
   "source": [
    "'Schooling'-Daten fehlen in 100% der Fällen, wenn 'Population'-Daten fehlen\n",
    "Daten zu 'Income composition of resources' und 'GDP' fehlen auch in 99,4% und 95% Fällen jeweils, \n",
    "wenn 'Population'-Daten fehlen"
   ]
  },
  {
   "cell_type": "code",
   "execution_count": 235,
   "id": "ff7531b4",
   "metadata": {},
   "outputs": [
    {
     "data": {
      "text/plain": [
       "Country                                   NaN\n",
       "Year                                      NaN\n",
       "Status                                    NaN\n",
       "Life expectancy                      0.000000\n",
       "Adult Mortality                      0.000000\n",
       "infant deaths                             NaN\n",
       "Alcohol                             97.422680\n",
       "percentage expenditure                    NaN\n",
       "Hepatitis B                          6.690778\n",
       "Measles                                   NaN\n",
       "BMI                                 41.176471\n",
       "under-five deaths                         NaN\n",
       "Polio                               57.894737\n",
       "Total expenditure                  100.000000\n",
       "Diphtheria                          57.894737\n",
       "HIV/AIDS                                  NaN\n",
       "GDP                                 15.178571\n",
       "Population                          10.889571\n",
       "thinness  1-19 years                41.176471\n",
       "thinness 5-9 years                  41.176471\n",
       "Income composition of resources     23.952096\n",
       "Schooling                           24.539877\n",
       "dtype: float64"
      ]
     },
     "execution_count": 235,
     "metadata": {},
     "output_type": "execute_result"
    }
   ],
   "source": [
    "# Prozentsatz der fehlenden Werte in allen Spalten, wenn 'Total expenditure'-Werte fehlen\n",
    "(df[df['Total expenditure'].isnull()].isnull().sum())/df.isnull().sum() * 100"
   ]
  },
  {
   "cell_type": "markdown",
   "id": "fd0e7019",
   "metadata": {},
   "source": [
    "Daten zur Spalte 'Alcocol' fehlen in 97% der Fälle, wenn die Daten der Spalte 'Total expenditure' fehlt"
   ]
  },
  {
   "cell_type": "markdown",
   "id": "4c7302f3",
   "metadata": {},
   "source": [
    "Schlussfolgerungen nach Analyse der fehlenden Daten"
   ]
  },
  {
   "cell_type": "markdown",
   "id": "c65b787d",
   "metadata": {},
   "source": [
    "1. Fehlende Werte in Spalten ''Life expectancy', 'Adult Mortality', 'BMI', 'Polio', 'Diptheria', 'thinness  1-19 years', \n",
    "und 'thinness 5-9 years' gehören zur Art 'Zufälliges Fehlen (MAR)' gehören, da das Fehlen der Daten in 100% der Fällen\n",
    "vom Entwicklungsstatus der jeweiligen Dateninstanz abhängt.\n",
    "\n",
    "2. Die fehlenden Daten in Spalten 'Hepatitis B', 'GDP', 'Population' sowie 'Total expenditure' fehlen jedoch \n",
    "völlig willkürlich und gehören somit zur Art 'Missing-Completely-at-random (MCAR)'.\n",
    "\n",
    "3. Die Daten in Spalten 'Alcohol', 'Polio', 'Diptheria', 'Schooling' und 'Income composition of resources' fehlen, wenn\n",
    "Daten solcher Spalten fehlen, die MCAR-Daten enthalten (aus 2.)."
   ]
  },
  {
   "cell_type": "markdown",
   "id": "cbfa4dfb",
   "metadata": {},
   "source": [
    "Daher weist der Datensatz fehlende Daten zu den Typen - 'MCAR' und 'MAR' auf.\n",
    "Aus Literaturrecherche werden 9 Verfahren bestimmt, die fehlenden Daten zum Typ MCAR und MAR in einem multivariaten Datensatz gut ersetzen können.\n",
    "\n",
    "Diese sind nämlich - 1.Forward-Imputation, 2. Backward-Imputation, 3.Mean-Imputation, 4. Median-Imputation 5.KNN-Verfahren, 6.MICE-Imputation, 7. MissForest-Imputation mit SVM als Klassfizierer, 8. Expectation-Maximization Algorithmus, 9. LSTM-Verfahren\n",
    "\n",
    "In diesem Notebook werden diese Imputationsalgorithmen auf den Datensatz angewandt und deren Evaluationsergebnisse miteinander vergleichen, um die besten Imputationsalgorithmen zu bestimmen."
   ]
  },
  {
   "cell_type": "markdown",
   "id": "b8f8a4df",
   "metadata": {},
   "source": [
    "### Encoden der kategorischen Spalten des Datensatzes"
   ]
  },
  {
   "cell_type": "markdown",
   "id": "b0f5e0e0",
   "metadata": {},
   "source": [
    "Vor Imputation müssen jedoch Daten der Kategoriespalten encodiert werden, damit der Datensatz nur numerische Attributen enthält,\n",
    "was wiederum bei der Anwendung von linearer Regression zum Evaluieren der Imputationsverfahren wichtig ist."
   ]
  },
  {
   "cell_type": "markdown",
   "id": "bded1d6e",
   "metadata": {},
   "source": [
    "#### Encoden nominaler Werte der Spalte 'Country'"
   ]
  },
  {
   "cell_type": "code",
   "execution_count": 236,
   "id": "ee5737c8",
   "metadata": {},
   "outputs": [
    {
     "data": {
      "text/plain": [
       "0       Afghanistan\n",
       "1       Afghanistan\n",
       "2       Afghanistan\n",
       "3       Afghanistan\n",
       "4       Afghanistan\n",
       "           ...     \n",
       "2933       Zimbabwe\n",
       "2934       Zimbabwe\n",
       "2935       Zimbabwe\n",
       "2936       Zimbabwe\n",
       "2937       Zimbabwe\n",
       "Name: Country, Length: 2938, dtype: object"
      ]
     },
     "execution_count": 236,
     "metadata": {},
     "output_type": "execute_result"
    }
   ],
   "source": [
    "df.Country"
   ]
  },
  {
   "cell_type": "markdown",
   "id": "16f54719",
   "metadata": {},
   "source": [
    "Da Encoding-Verfaren wie Label Encoding nicht ideal zum Encoden von Attributen mit mehreren nominalen Werten ist,\n",
    "und Verfahren wie One-Hot Encoding und Binary-Encoding die Dimensionalität des Datensatzes stark erhöhen,\n",
    "wenn die nominale Spalte mehrere einzigartige Werte hat, wurde in diesem Fall entschieden,\n",
    "Target Encoder, der eine Art vom Category Encoder ist, anzuwenden.\n",
    "\n",
    "Target Encoder weist der Mean-Wert des Zielattributs über das jeweilige, zu encodende Attribut zu allen Instanzen \n",
    "des zu encodenden Attributs auf."
   ]
  },
  {
   "cell_type": "code",
   "execution_count": 237,
   "id": "5e1a567e",
   "metadata": {},
   "outputs": [],
   "source": [
    "import category_encoders as ce\n",
    "Encoder = ce.TargetEncoder(cols=['Country'])\n",
    "df_country_encoded = Encoder.fit_transform(df['Country'], df['Life expectancy'])\n",
    "df.Country = df_country_encoded.Country"
   ]
  },
  {
   "cell_type": "code",
   "execution_count": 238,
   "id": "da3c2207",
   "metadata": {},
   "outputs": [
    {
     "data": {
      "text/plain": [
       "0       64.797982\n",
       "1       64.797982\n",
       "2       64.797982\n",
       "3       64.797982\n",
       "4       64.797982\n",
       "          ...    \n",
       "2933    61.705369\n",
       "2934    61.705369\n",
       "2935    61.705369\n",
       "2936    61.705369\n",
       "2937    61.705369\n",
       "Name: Country, Length: 2938, dtype: float64"
      ]
     },
     "execution_count": 238,
     "metadata": {},
     "output_type": "execute_result"
    }
   ],
   "source": [
    "df.Country"
   ]
  },
  {
   "cell_type": "markdown",
   "id": "daf50fb0",
   "metadata": {},
   "source": [
    "#### Encoden nominaler Werte der Spalte 'Status'"
   ]
  },
  {
   "cell_type": "code",
   "execution_count": 239,
   "id": "a4b9686f",
   "metadata": {},
   "outputs": [
    {
     "data": {
      "text/plain": [
       "array(['Developing', 'Developed'], dtype=object)"
      ]
     },
     "execution_count": 239,
     "metadata": {},
     "output_type": "execute_result"
    }
   ],
   "source": [
    "df.Status.unique()"
   ]
  },
  {
   "cell_type": "code",
   "execution_count": 240,
   "id": "a9248757",
   "metadata": {},
   "outputs": [
    {
     "data": {
      "text/plain": [
       "array([0, 1], dtype=int64)"
      ]
     },
     "execution_count": 240,
     "metadata": {},
     "output_type": "execute_result"
    }
   ],
   "source": [
    "df['Status'].replace({'Developing':0,'Developed':1}, inplace=True)\n",
    "df.Status.unique()"
   ]
  },
  {
   "cell_type": "markdown",
   "id": "567456eb",
   "metadata": {},
   "source": [
    "###  Imputation fehlender Daten"
   ]
  },
  {
   "cell_type": "markdown",
   "id": "cbc67663",
   "metadata": {},
   "source": [
    "Imputationverfahren zum Ersetzen fehlender Werte im Datensatz\n",
    "\n",
    "1. Löschen\n",
    "2. Forward-Imputation\n",
    "3. Backward-Imputation\n",
    "4. Mean-Imputation\n",
    "5. Median-Imputation\n",
    "6. KNN-Imputation\n",
    "7. MICE-Imputation\n",
    "8. MissForest with SVM Classifier\n",
    "9. Expectation-Maximization Algorithmus\n",
    "10. LSTM-Verfahren\n",
    "\n",
    "('Löschen' wurde auch als ein möglicher Ansatz betrachtet, obwohl der Anteil der fehlenden Daten im Datensatz zu hoch ist, damit die Endergebnisse miteinander verglichen werden können.)"
   ]
  },
  {
   "cell_type": "code",
   "execution_count": 308,
   "id": "5a333f85",
   "metadata": {},
   "outputs": [],
   "source": [
    "df_löschen = df.copy()\n",
    "df_forward = df.copy()\n",
    "df_backward = df.copy()\n",
    "df_mean = df.copy()\n",
    "df_median = df.copy()\n",
    "df_knn = df.copy()\n",
    "df_mice = df.copy()\n",
    "df_missforest = df.copy()\n",
    "df_em = df.copy()\n",
    "df_lstm = df.copy()"
   ]
  },
  {
   "cell_type": "markdown",
   "id": "f356c8e4",
   "metadata": {},
   "source": [
    "### 1. Löschen"
   ]
  },
  {
   "cell_type": "code",
   "execution_count": 242,
   "id": "d5f21293",
   "metadata": {},
   "outputs": [
    {
     "data": {
      "text/plain": [
       "Country                            0\n",
       "Year                               0\n",
       "Status                             0\n",
       "Life expectancy                    0\n",
       "Adult Mortality                    0\n",
       "infant deaths                      0\n",
       "Alcohol                            0\n",
       "percentage expenditure             0\n",
       "Hepatitis B                        0\n",
       "Measles                            0\n",
       "BMI                                0\n",
       "under-five deaths                  0\n",
       "Polio                              0\n",
       "Total expenditure                  0\n",
       "Diphtheria                         0\n",
       "HIV/AIDS                           0\n",
       "GDP                                0\n",
       "Population                         0\n",
       "thinness  1-19 years               0\n",
       "thinness 5-9 years                 0\n",
       "Income composition of resources    0\n",
       "Schooling                          0\n",
       "dtype: int64"
      ]
     },
     "execution_count": 242,
     "metadata": {},
     "output_type": "execute_result"
    }
   ],
   "source": [
    "df_löschen.dropna(axis=0,inplace=True)\n",
    "df_löschen.isnull().sum()"
   ]
  },
  {
   "cell_type": "code",
   "execution_count": 243,
   "id": "9bffe25b",
   "metadata": {},
   "outputs": [
    {
     "name": "stdout",
     "output_type": "stream",
     "text": [
      "Größe des Datensatzes vor dem Löschen fehlender Daten:  (2938, 22)\n",
      "Größe des Datensatzes nach dem Löschen fehlender Daten:  (1649, 22)\n"
     ]
    }
   ],
   "source": [
    "print('Größe des Datensatzes vor dem Löschen fehlender Daten: ', df.shape)\n",
    "print('Größe des Datensatzes nach dem Löschen fehlender Daten: ',df_löschen.shape)"
   ]
  },
  {
   "cell_type": "markdown",
   "id": "0ebcc009",
   "metadata": {},
   "source": [
    "Beim Entfernen der Null-Werte im Datensatz ist die Anzahl der Zeilen im Datensatz von 2938 auf 1649 reduziert \n",
    "(~43% der gestamen Daten) - Kein ideales Verfahren zum Aufbauen des ML-Modells auf den Datensatz, \n",
    "da das Modell viele wesentliche Muster im Datensatz vernachlässigen würde."
   ]
  },
  {
   "cell_type": "code",
   "execution_count": 244,
   "id": "02439f99",
   "metadata": {},
   "outputs": [],
   "source": [
    "# Anpassung linearer Regression\n",
    "from sklearn.linear_model import LinearRegression\n",
    "from sklearn.model_selection import train_test_split\n",
    "from sklearn import metrics\n",
    "from sklearn.metrics import mean_squared_error, r2_score\n",
    "from math import sqrt"
   ]
  },
  {
   "cell_type": "code",
   "execution_count": 245,
   "id": "d1b8df5f",
   "metadata": {},
   "outputs": [],
   "source": [
    "x_löschen = df_löschen.drop('Life expectancy',axis=1)\n",
    "y_löschen = df_löschen['Life expectancy']\n",
    "y_löschen = pd.DataFrame(y_löschen)"
   ]
  },
  {
   "cell_type": "code",
   "execution_count": 246,
   "id": "45c27030",
   "metadata": {},
   "outputs": [],
   "source": [
    "x_löschen_train, x_löschen_test, y_löschen_train, y_löschen_test =  train_test_split(x_löschen,y_löschen,test_size=.30)"
   ]
  },
  {
   "cell_type": "code",
   "execution_count": 247,
   "id": "0b8033d0",
   "metadata": {},
   "outputs": [
    {
     "name": "stdout",
     "output_type": "stream",
     "text": [
      "X_train:  (1154, 21)\n",
      "X_test:  (495, 21)\n",
      "y_train:  (1154, 1)\n",
      "y_test:  (495, 1)\n"
     ]
    }
   ],
   "source": [
    "print(\"X_train: \",x_löschen_train.shape)\n",
    "print(\"X_test: \",x_löschen_test.shape)\n",
    "print(\"y_train: \",y_löschen_train.shape)\n",
    "print(\"y_test: \",y_löschen_test.shape)"
   ]
  },
  {
   "cell_type": "code",
   "execution_count": 248,
   "id": "d3adc7bd",
   "metadata": {},
   "outputs": [
    {
     "data": {
      "text/html": [
       "<style>#sk-container-id-16 {color: black;}#sk-container-id-16 pre{padding: 0;}#sk-container-id-16 div.sk-toggleable {background-color: white;}#sk-container-id-16 label.sk-toggleable__label {cursor: pointer;display: block;width: 100%;margin-bottom: 0;padding: 0.3em;box-sizing: border-box;text-align: center;}#sk-container-id-16 label.sk-toggleable__label-arrow:before {content: \"▸\";float: left;margin-right: 0.25em;color: #696969;}#sk-container-id-16 label.sk-toggleable__label-arrow:hover:before {color: black;}#sk-container-id-16 div.sk-estimator:hover label.sk-toggleable__label-arrow:before {color: black;}#sk-container-id-16 div.sk-toggleable__content {max-height: 0;max-width: 0;overflow: hidden;text-align: left;background-color: #f0f8ff;}#sk-container-id-16 div.sk-toggleable__content pre {margin: 0.2em;color: black;border-radius: 0.25em;background-color: #f0f8ff;}#sk-container-id-16 input.sk-toggleable__control:checked~div.sk-toggleable__content {max-height: 200px;max-width: 100%;overflow: auto;}#sk-container-id-16 input.sk-toggleable__control:checked~label.sk-toggleable__label-arrow:before {content: \"▾\";}#sk-container-id-16 div.sk-estimator input.sk-toggleable__control:checked~label.sk-toggleable__label {background-color: #d4ebff;}#sk-container-id-16 div.sk-label input.sk-toggleable__control:checked~label.sk-toggleable__label {background-color: #d4ebff;}#sk-container-id-16 input.sk-hidden--visually {border: 0;clip: rect(1px 1px 1px 1px);clip: rect(1px, 1px, 1px, 1px);height: 1px;margin: -1px;overflow: hidden;padding: 0;position: absolute;width: 1px;}#sk-container-id-16 div.sk-estimator {font-family: monospace;background-color: #f0f8ff;border: 1px dotted black;border-radius: 0.25em;box-sizing: border-box;margin-bottom: 0.5em;}#sk-container-id-16 div.sk-estimator:hover {background-color: #d4ebff;}#sk-container-id-16 div.sk-parallel-item::after {content: \"\";width: 100%;border-bottom: 1px solid gray;flex-grow: 1;}#sk-container-id-16 div.sk-label:hover label.sk-toggleable__label {background-color: #d4ebff;}#sk-container-id-16 div.sk-serial::before {content: \"\";position: absolute;border-left: 1px solid gray;box-sizing: border-box;top: 0;bottom: 0;left: 50%;z-index: 0;}#sk-container-id-16 div.sk-serial {display: flex;flex-direction: column;align-items: center;background-color: white;padding-right: 0.2em;padding-left: 0.2em;position: relative;}#sk-container-id-16 div.sk-item {position: relative;z-index: 1;}#sk-container-id-16 div.sk-parallel {display: flex;align-items: stretch;justify-content: center;background-color: white;position: relative;}#sk-container-id-16 div.sk-item::before, #sk-container-id-16 div.sk-parallel-item::before {content: \"\";position: absolute;border-left: 1px solid gray;box-sizing: border-box;top: 0;bottom: 0;left: 50%;z-index: -1;}#sk-container-id-16 div.sk-parallel-item {display: flex;flex-direction: column;z-index: 1;position: relative;background-color: white;}#sk-container-id-16 div.sk-parallel-item:first-child::after {align-self: flex-end;width: 50%;}#sk-container-id-16 div.sk-parallel-item:last-child::after {align-self: flex-start;width: 50%;}#sk-container-id-16 div.sk-parallel-item:only-child::after {width: 0;}#sk-container-id-16 div.sk-dashed-wrapped {border: 1px dashed gray;margin: 0 0.4em 0.5em 0.4em;box-sizing: border-box;padding-bottom: 0.4em;background-color: white;}#sk-container-id-16 div.sk-label label {font-family: monospace;font-weight: bold;display: inline-block;line-height: 1.2em;}#sk-container-id-16 div.sk-label-container {text-align: center;}#sk-container-id-16 div.sk-container {/* jupyter's `normalize.less` sets `[hidden] { display: none; }` but bootstrap.min.css set `[hidden] { display: none !important; }` so we also need the `!important` here to be able to override the default hidden behavior on the sphinx rendered scikit-learn.org. See: https://github.com/scikit-learn/scikit-learn/issues/21755 */display: inline-block !important;position: relative;}#sk-container-id-16 div.sk-text-repr-fallback {display: none;}</style><div id=\"sk-container-id-16\" class=\"sk-top-container\"><div class=\"sk-text-repr-fallback\"><pre>LinearRegression()</pre><b>In a Jupyter environment, please rerun this cell to show the HTML representation or trust the notebook. <br />On GitHub, the HTML representation is unable to render, please try loading this page with nbviewer.org.</b></div><div class=\"sk-container\" hidden><div class=\"sk-item\"><div class=\"sk-estimator sk-toggleable\"><input class=\"sk-toggleable__control sk-hidden--visually\" id=\"sk-estimator-id-16\" type=\"checkbox\" checked><label for=\"sk-estimator-id-16\" class=\"sk-toggleable__label sk-toggleable__label-arrow\">LinearRegression</label><div class=\"sk-toggleable__content\"><pre>LinearRegression()</pre></div></div></div></div></div>"
      ],
      "text/plain": [
       "LinearRegression()"
      ]
     },
     "execution_count": 248,
     "metadata": {},
     "output_type": "execute_result"
    }
   ],
   "source": [
    "linreg = LinearRegression()\n",
    "linreg.fit(x_löschen_train,y_löschen_train)"
   ]
  },
  {
   "cell_type": "code",
   "execution_count": 249,
   "id": "2fa002a2",
   "metadata": {},
   "outputs": [],
   "source": [
    "y_löschen_pred = linreg.predict(x_löschen_test)"
   ]
  },
  {
   "cell_type": "code",
   "execution_count": 250,
   "id": "6798ad8a",
   "metadata": {},
   "outputs": [
    {
     "name": "stdout",
     "output_type": "stream",
     "text": [
      "Evaluationsergebnisse von linearer Regression nach Löschen fehlender Daten:\n",
      "\n"
     ]
    },
    {
     "data": {
      "text/html": [
       "<div>\n",
       "<style scoped>\n",
       "    .dataframe tbody tr th:only-of-type {\n",
       "        vertical-align: middle;\n",
       "    }\n",
       "\n",
       "    .dataframe tbody tr th {\n",
       "        vertical-align: top;\n",
       "    }\n",
       "\n",
       "    .dataframe thead th {\n",
       "        text-align: right;\n",
       "    }\n",
       "</style>\n",
       "<table border=\"1\" class=\"dataframe\">\n",
       "  <thead>\n",
       "    <tr style=\"text-align: right;\">\n",
       "      <th></th>\n",
       "      <th>Evalutionsmetriken</th>\n",
       "      <th>Scores</th>\n",
       "    </tr>\n",
       "  </thead>\n",
       "  <tbody>\n",
       "    <tr>\n",
       "      <th>0</th>\n",
       "      <td>Mean-squared-error (MSE)</td>\n",
       "      <td>3.477944</td>\n",
       "    </tr>\n",
       "    <tr>\n",
       "      <th>1</th>\n",
       "      <td>Root-mean-sqaured-error (RMSE)</td>\n",
       "      <td>1.864925</td>\n",
       "    </tr>\n",
       "    <tr>\n",
       "      <th>2</th>\n",
       "      <td>R2-score</td>\n",
       "      <td>0.951601</td>\n",
       "    </tr>\n",
       "    <tr>\n",
       "      <th>3</th>\n",
       "      <td>Angepasster R2-Score</td>\n",
       "      <td>0.949453</td>\n",
       "    </tr>\n",
       "  </tbody>\n",
       "</table>\n",
       "</div>"
      ],
      "text/plain": [
       "               Evalutionsmetriken    Scores\n",
       "0        Mean-squared-error (MSE)  3.477944\n",
       "1  Root-mean-sqaured-error (RMSE)  1.864925\n",
       "2                        R2-score  0.951601\n",
       "3            Angepasster R2-Score  0.949453"
      ]
     },
     "execution_count": 250,
     "metadata": {},
     "output_type": "execute_result"
    }
   ],
   "source": [
    "# Evaluationsmetriken von linearer Regression\n",
    "mse_löschen = mean_squared_error(y_löschen_test,y_löschen_pred) # MSE-Wert\n",
    "rmse_löschen = sqrt(mse_löschen) # RMSE-Wert\n",
    "r2_löschen = r2_score(y_löschen_test, y_löschen_pred) # R2-Score\n",
    "n_löschen = x_löschen_test.shape[0]  # number of samples\n",
    "k_löschen = x_löschen_test.shape[1]  # number of features\n",
    "r2_adj_löschen = 1 - ((1 - r2_löschen) * (n_löschen - 1) / (n_löschen - k_löschen - 1)) # Angepasster R2-score\n",
    "\n",
    "LinReg_löschen = pd.DataFrame({'Evalutionsmetriken': ['Mean-squared-error (MSE)','Root-mean-sqaured-error (RMSE)','R2-score','Angepasster R2-Score'],\n",
    "                               'Scores': [mse_löschen, rmse_löschen, r2_löschen, r2_adj_löschen]})\n",
    "print('Evaluationsergebnisse von linearer Regression nach Löschen fehlender Daten:\\n')\n",
    "LinReg_löschen"
   ]
  },
  {
   "cell_type": "markdown",
   "id": "7c4f099c",
   "metadata": {},
   "source": [
    "### 2. Forward-Imputation"
   ]
  },
  {
   "cell_type": "code",
   "execution_count": 251,
   "id": "0fbe8f3b",
   "metadata": {},
   "outputs": [
    {
     "data": {
      "text/plain": [
       "Country                            0\n",
       "Year                               0\n",
       "Status                             0\n",
       "Life expectancy                    0\n",
       "Adult Mortality                    0\n",
       "infant deaths                      0\n",
       "Alcohol                            0\n",
       "percentage expenditure             0\n",
       "Hepatitis B                        0\n",
       "Measles                            0\n",
       "BMI                                0\n",
       "under-five deaths                  0\n",
       "Polio                              0\n",
       "Total expenditure                  0\n",
       "Diphtheria                         0\n",
       "HIV/AIDS                           0\n",
       "GDP                                0\n",
       "Population                         0\n",
       "thinness  1-19 years               0\n",
       "thinness 5-9 years                 0\n",
       "Income composition of resources    0\n",
       "Schooling                          0\n",
       "dtype: int64"
      ]
     },
     "execution_count": 251,
     "metadata": {},
     "output_type": "execute_result"
    }
   ],
   "source": [
    "df_forward = df_forward.ffill()\n",
    "df_forward.isnull().sum()"
   ]
  },
  {
   "cell_type": "code",
   "execution_count": 252,
   "id": "4334991b",
   "metadata": {},
   "outputs": [],
   "source": [
    "x_forward = df_forward.drop('Life expectancy',axis=1)\n",
    "y_forward = df_forward['Life expectancy']\n",
    "y_forward = pd.DataFrame(y_forward)"
   ]
  },
  {
   "cell_type": "code",
   "execution_count": 253,
   "id": "8386cc7a",
   "metadata": {},
   "outputs": [],
   "source": [
    "x_forward_train, x_forward_test, y_forward_train, y_forward_test =  train_test_split(x_forward,y_forward,test_size=.30)"
   ]
  },
  {
   "cell_type": "code",
   "execution_count": 254,
   "id": "06057e66",
   "metadata": {},
   "outputs": [
    {
     "name": "stdout",
     "output_type": "stream",
     "text": [
      "X_train:  (2056, 21)\n",
      "X_test:  (882, 21)\n",
      "y_train:  (2056, 1)\n",
      "y_test:  (882, 1)\n"
     ]
    }
   ],
   "source": [
    "print(\"X_train: \",x_forward_train.shape)\n",
    "print(\"X_test: \",x_forward_test.shape)\n",
    "print(\"y_train: \",y_forward_train.shape)\n",
    "print(\"y_test: \",y_forward_test.shape)"
   ]
  },
  {
   "cell_type": "code",
   "execution_count": 255,
   "id": "6b3f49dd",
   "metadata": {},
   "outputs": [
    {
     "data": {
      "text/html": [
       "<style>#sk-container-id-17 {color: black;}#sk-container-id-17 pre{padding: 0;}#sk-container-id-17 div.sk-toggleable {background-color: white;}#sk-container-id-17 label.sk-toggleable__label {cursor: pointer;display: block;width: 100%;margin-bottom: 0;padding: 0.3em;box-sizing: border-box;text-align: center;}#sk-container-id-17 label.sk-toggleable__label-arrow:before {content: \"▸\";float: left;margin-right: 0.25em;color: #696969;}#sk-container-id-17 label.sk-toggleable__label-arrow:hover:before {color: black;}#sk-container-id-17 div.sk-estimator:hover label.sk-toggleable__label-arrow:before {color: black;}#sk-container-id-17 div.sk-toggleable__content {max-height: 0;max-width: 0;overflow: hidden;text-align: left;background-color: #f0f8ff;}#sk-container-id-17 div.sk-toggleable__content pre {margin: 0.2em;color: black;border-radius: 0.25em;background-color: #f0f8ff;}#sk-container-id-17 input.sk-toggleable__control:checked~div.sk-toggleable__content {max-height: 200px;max-width: 100%;overflow: auto;}#sk-container-id-17 input.sk-toggleable__control:checked~label.sk-toggleable__label-arrow:before {content: \"▾\";}#sk-container-id-17 div.sk-estimator input.sk-toggleable__control:checked~label.sk-toggleable__label {background-color: #d4ebff;}#sk-container-id-17 div.sk-label input.sk-toggleable__control:checked~label.sk-toggleable__label {background-color: #d4ebff;}#sk-container-id-17 input.sk-hidden--visually {border: 0;clip: rect(1px 1px 1px 1px);clip: rect(1px, 1px, 1px, 1px);height: 1px;margin: -1px;overflow: hidden;padding: 0;position: absolute;width: 1px;}#sk-container-id-17 div.sk-estimator {font-family: monospace;background-color: #f0f8ff;border: 1px dotted black;border-radius: 0.25em;box-sizing: border-box;margin-bottom: 0.5em;}#sk-container-id-17 div.sk-estimator:hover {background-color: #d4ebff;}#sk-container-id-17 div.sk-parallel-item::after {content: \"\";width: 100%;border-bottom: 1px solid gray;flex-grow: 1;}#sk-container-id-17 div.sk-label:hover label.sk-toggleable__label {background-color: #d4ebff;}#sk-container-id-17 div.sk-serial::before {content: \"\";position: absolute;border-left: 1px solid gray;box-sizing: border-box;top: 0;bottom: 0;left: 50%;z-index: 0;}#sk-container-id-17 div.sk-serial {display: flex;flex-direction: column;align-items: center;background-color: white;padding-right: 0.2em;padding-left: 0.2em;position: relative;}#sk-container-id-17 div.sk-item {position: relative;z-index: 1;}#sk-container-id-17 div.sk-parallel {display: flex;align-items: stretch;justify-content: center;background-color: white;position: relative;}#sk-container-id-17 div.sk-item::before, #sk-container-id-17 div.sk-parallel-item::before {content: \"\";position: absolute;border-left: 1px solid gray;box-sizing: border-box;top: 0;bottom: 0;left: 50%;z-index: -1;}#sk-container-id-17 div.sk-parallel-item {display: flex;flex-direction: column;z-index: 1;position: relative;background-color: white;}#sk-container-id-17 div.sk-parallel-item:first-child::after {align-self: flex-end;width: 50%;}#sk-container-id-17 div.sk-parallel-item:last-child::after {align-self: flex-start;width: 50%;}#sk-container-id-17 div.sk-parallel-item:only-child::after {width: 0;}#sk-container-id-17 div.sk-dashed-wrapped {border: 1px dashed gray;margin: 0 0.4em 0.5em 0.4em;box-sizing: border-box;padding-bottom: 0.4em;background-color: white;}#sk-container-id-17 div.sk-label label {font-family: monospace;font-weight: bold;display: inline-block;line-height: 1.2em;}#sk-container-id-17 div.sk-label-container {text-align: center;}#sk-container-id-17 div.sk-container {/* jupyter's `normalize.less` sets `[hidden] { display: none; }` but bootstrap.min.css set `[hidden] { display: none !important; }` so we also need the `!important` here to be able to override the default hidden behavior on the sphinx rendered scikit-learn.org. See: https://github.com/scikit-learn/scikit-learn/issues/21755 */display: inline-block !important;position: relative;}#sk-container-id-17 div.sk-text-repr-fallback {display: none;}</style><div id=\"sk-container-id-17\" class=\"sk-top-container\"><div class=\"sk-text-repr-fallback\"><pre>LinearRegression()</pre><b>In a Jupyter environment, please rerun this cell to show the HTML representation or trust the notebook. <br />On GitHub, the HTML representation is unable to render, please try loading this page with nbviewer.org.</b></div><div class=\"sk-container\" hidden><div class=\"sk-item\"><div class=\"sk-estimator sk-toggleable\"><input class=\"sk-toggleable__control sk-hidden--visually\" id=\"sk-estimator-id-17\" type=\"checkbox\" checked><label for=\"sk-estimator-id-17\" class=\"sk-toggleable__label sk-toggleable__label-arrow\">LinearRegression</label><div class=\"sk-toggleable__content\"><pre>LinearRegression()</pre></div></div></div></div></div>"
      ],
      "text/plain": [
       "LinearRegression()"
      ]
     },
     "execution_count": 255,
     "metadata": {},
     "output_type": "execute_result"
    }
   ],
   "source": [
    "linreg_forward = LinearRegression()\n",
    "linreg_forward.fit(x_forward_train,y_forward_train)"
   ]
  },
  {
   "cell_type": "code",
   "execution_count": 256,
   "id": "a3c509de",
   "metadata": {},
   "outputs": [],
   "source": [
    "y_forward_pred = linreg_forward.predict(x_forward_test)"
   ]
  },
  {
   "cell_type": "code",
   "execution_count": 257,
   "id": "e472ccbd",
   "metadata": {},
   "outputs": [
    {
     "name": "stdout",
     "output_type": "stream",
     "text": [
      "Evaluationsergebnisse von linearer Regression nach Forward-Imputation:\n",
      "\n"
     ]
    },
    {
     "data": {
      "text/html": [
       "<div>\n",
       "<style scoped>\n",
       "    .dataframe tbody tr th:only-of-type {\n",
       "        vertical-align: middle;\n",
       "    }\n",
       "\n",
       "    .dataframe tbody tr th {\n",
       "        vertical-align: top;\n",
       "    }\n",
       "\n",
       "    .dataframe thead th {\n",
       "        text-align: right;\n",
       "    }\n",
       "</style>\n",
       "<table border=\"1\" class=\"dataframe\">\n",
       "  <thead>\n",
       "    <tr style=\"text-align: right;\">\n",
       "      <th></th>\n",
       "      <th>Evalutionsmetriken</th>\n",
       "      <th>Scores</th>\n",
       "    </tr>\n",
       "  </thead>\n",
       "  <tbody>\n",
       "    <tr>\n",
       "      <th>0</th>\n",
       "      <td>Mean-squared-error (MSE)</td>\n",
       "      <td>3.546261</td>\n",
       "    </tr>\n",
       "    <tr>\n",
       "      <th>1</th>\n",
       "      <td>Root-mean-sqaured-error (RMSE)</td>\n",
       "      <td>1.883152</td>\n",
       "    </tr>\n",
       "    <tr>\n",
       "      <th>2</th>\n",
       "      <td>R2-score</td>\n",
       "      <td>0.960014</td>\n",
       "    </tr>\n",
       "    <tr>\n",
       "      <th>3</th>\n",
       "      <td>Angepasster R2-Score</td>\n",
       "      <td>0.959037</td>\n",
       "    </tr>\n",
       "  </tbody>\n",
       "</table>\n",
       "</div>"
      ],
      "text/plain": [
       "               Evalutionsmetriken    Scores\n",
       "0        Mean-squared-error (MSE)  3.546261\n",
       "1  Root-mean-sqaured-error (RMSE)  1.883152\n",
       "2                        R2-score  0.960014\n",
       "3            Angepasster R2-Score  0.959037"
      ]
     },
     "execution_count": 257,
     "metadata": {},
     "output_type": "execute_result"
    }
   ],
   "source": [
    "mse_forward = mean_squared_error(y_forward_test,y_forward_pred)\n",
    "rmse_forward = sqrt(mse_forward)\n",
    "r2_forward = r2_score(y_forward_test, y_forward_pred)\n",
    "n_forward = x_forward_test.shape[0]  # number of samples\n",
    "k_forward = x_forward_test.shape[1]  # number of features\n",
    "r2_adj_forward = 1 - ((1 - r2_forward) * (n_forward - 1) / (n_forward - k_forward - 1))\n",
    "\n",
    "LinReg_forward = pd.DataFrame({'Evalutionsmetriken': ['Mean-squared-error (MSE)','Root-mean-sqaured-error (RMSE)','R2-score','Angepasster R2-Score'],\n",
    "                               'Scores': [mse_forward, rmse_forward, r2_forward, r2_adj_forward]})\n",
    "print('Evaluationsergebnisse von linearer Regression nach Forward-Imputation:\\n')\n",
    "LinReg_forward"
   ]
  },
  {
   "cell_type": "markdown",
   "id": "30512400",
   "metadata": {},
   "source": [
    "### 3. Backward-Imputation"
   ]
  },
  {
   "cell_type": "code",
   "execution_count": 258,
   "id": "055d532f",
   "metadata": {},
   "outputs": [
    {
     "data": {
      "text/plain": [
       "Country                            0\n",
       "Year                               0\n",
       "Status                             0\n",
       "Life expectancy                    0\n",
       "Adult Mortality                    0\n",
       "infant deaths                      0\n",
       "Alcohol                            0\n",
       "percentage expenditure             0\n",
       "Hepatitis B                        0\n",
       "Measles                            0\n",
       "BMI                                0\n",
       "under-five deaths                  0\n",
       "Polio                              0\n",
       "Total expenditure                  0\n",
       "Diphtheria                         0\n",
       "HIV/AIDS                           0\n",
       "GDP                                0\n",
       "Population                         0\n",
       "thinness  1-19 years               0\n",
       "thinness 5-9 years                 0\n",
       "Income composition of resources    0\n",
       "Schooling                          0\n",
       "dtype: int64"
      ]
     },
     "execution_count": 258,
     "metadata": {},
     "output_type": "execute_result"
    }
   ],
   "source": [
    "df_backward = df_backward.ffill()\n",
    "df_backward.isnull().sum()"
   ]
  },
  {
   "cell_type": "code",
   "execution_count": 259,
   "id": "4f35ec49",
   "metadata": {},
   "outputs": [],
   "source": [
    "x_backward = df_backward.drop('Life expectancy',axis=1)\n",
    "y_backward = df_backward['Life expectancy']\n",
    "y_backward = pd.DataFrame(y_forward)"
   ]
  },
  {
   "cell_type": "code",
   "execution_count": 260,
   "id": "3f15b5b5",
   "metadata": {},
   "outputs": [],
   "source": [
    "x_backward_train, x_backward_test, y_backward_train, y_backward_test =  train_test_split(x_backward,y_backward,test_size=.30)"
   ]
  },
  {
   "cell_type": "code",
   "execution_count": 261,
   "id": "42946c12",
   "metadata": {},
   "outputs": [
    {
     "name": "stdout",
     "output_type": "stream",
     "text": [
      "X_train:  (2056, 21)\n",
      "X_test:  (882, 21)\n",
      "y_train:  (2056, 1)\n",
      "y_test:  (882, 1)\n"
     ]
    }
   ],
   "source": [
    "print(\"X_train: \",x_backward_train.shape)\n",
    "print(\"X_test: \",x_backward_test.shape)\n",
    "print(\"y_train: \",y_backward_train.shape)\n",
    "print(\"y_test: \",y_backward_test.shape)"
   ]
  },
  {
   "cell_type": "code",
   "execution_count": 262,
   "id": "3f661a12",
   "metadata": {},
   "outputs": [
    {
     "data": {
      "text/html": [
       "<style>#sk-container-id-18 {color: black;}#sk-container-id-18 pre{padding: 0;}#sk-container-id-18 div.sk-toggleable {background-color: white;}#sk-container-id-18 label.sk-toggleable__label {cursor: pointer;display: block;width: 100%;margin-bottom: 0;padding: 0.3em;box-sizing: border-box;text-align: center;}#sk-container-id-18 label.sk-toggleable__label-arrow:before {content: \"▸\";float: left;margin-right: 0.25em;color: #696969;}#sk-container-id-18 label.sk-toggleable__label-arrow:hover:before {color: black;}#sk-container-id-18 div.sk-estimator:hover label.sk-toggleable__label-arrow:before {color: black;}#sk-container-id-18 div.sk-toggleable__content {max-height: 0;max-width: 0;overflow: hidden;text-align: left;background-color: #f0f8ff;}#sk-container-id-18 div.sk-toggleable__content pre {margin: 0.2em;color: black;border-radius: 0.25em;background-color: #f0f8ff;}#sk-container-id-18 input.sk-toggleable__control:checked~div.sk-toggleable__content {max-height: 200px;max-width: 100%;overflow: auto;}#sk-container-id-18 input.sk-toggleable__control:checked~label.sk-toggleable__label-arrow:before {content: \"▾\";}#sk-container-id-18 div.sk-estimator input.sk-toggleable__control:checked~label.sk-toggleable__label {background-color: #d4ebff;}#sk-container-id-18 div.sk-label input.sk-toggleable__control:checked~label.sk-toggleable__label {background-color: #d4ebff;}#sk-container-id-18 input.sk-hidden--visually {border: 0;clip: rect(1px 1px 1px 1px);clip: rect(1px, 1px, 1px, 1px);height: 1px;margin: -1px;overflow: hidden;padding: 0;position: absolute;width: 1px;}#sk-container-id-18 div.sk-estimator {font-family: monospace;background-color: #f0f8ff;border: 1px dotted black;border-radius: 0.25em;box-sizing: border-box;margin-bottom: 0.5em;}#sk-container-id-18 div.sk-estimator:hover {background-color: #d4ebff;}#sk-container-id-18 div.sk-parallel-item::after {content: \"\";width: 100%;border-bottom: 1px solid gray;flex-grow: 1;}#sk-container-id-18 div.sk-label:hover label.sk-toggleable__label {background-color: #d4ebff;}#sk-container-id-18 div.sk-serial::before {content: \"\";position: absolute;border-left: 1px solid gray;box-sizing: border-box;top: 0;bottom: 0;left: 50%;z-index: 0;}#sk-container-id-18 div.sk-serial {display: flex;flex-direction: column;align-items: center;background-color: white;padding-right: 0.2em;padding-left: 0.2em;position: relative;}#sk-container-id-18 div.sk-item {position: relative;z-index: 1;}#sk-container-id-18 div.sk-parallel {display: flex;align-items: stretch;justify-content: center;background-color: white;position: relative;}#sk-container-id-18 div.sk-item::before, #sk-container-id-18 div.sk-parallel-item::before {content: \"\";position: absolute;border-left: 1px solid gray;box-sizing: border-box;top: 0;bottom: 0;left: 50%;z-index: -1;}#sk-container-id-18 div.sk-parallel-item {display: flex;flex-direction: column;z-index: 1;position: relative;background-color: white;}#sk-container-id-18 div.sk-parallel-item:first-child::after {align-self: flex-end;width: 50%;}#sk-container-id-18 div.sk-parallel-item:last-child::after {align-self: flex-start;width: 50%;}#sk-container-id-18 div.sk-parallel-item:only-child::after {width: 0;}#sk-container-id-18 div.sk-dashed-wrapped {border: 1px dashed gray;margin: 0 0.4em 0.5em 0.4em;box-sizing: border-box;padding-bottom: 0.4em;background-color: white;}#sk-container-id-18 div.sk-label label {font-family: monospace;font-weight: bold;display: inline-block;line-height: 1.2em;}#sk-container-id-18 div.sk-label-container {text-align: center;}#sk-container-id-18 div.sk-container {/* jupyter's `normalize.less` sets `[hidden] { display: none; }` but bootstrap.min.css set `[hidden] { display: none !important; }` so we also need the `!important` here to be able to override the default hidden behavior on the sphinx rendered scikit-learn.org. See: https://github.com/scikit-learn/scikit-learn/issues/21755 */display: inline-block !important;position: relative;}#sk-container-id-18 div.sk-text-repr-fallback {display: none;}</style><div id=\"sk-container-id-18\" class=\"sk-top-container\"><div class=\"sk-text-repr-fallback\"><pre>LinearRegression()</pre><b>In a Jupyter environment, please rerun this cell to show the HTML representation or trust the notebook. <br />On GitHub, the HTML representation is unable to render, please try loading this page with nbviewer.org.</b></div><div class=\"sk-container\" hidden><div class=\"sk-item\"><div class=\"sk-estimator sk-toggleable\"><input class=\"sk-toggleable__control sk-hidden--visually\" id=\"sk-estimator-id-18\" type=\"checkbox\" checked><label for=\"sk-estimator-id-18\" class=\"sk-toggleable__label sk-toggleable__label-arrow\">LinearRegression</label><div class=\"sk-toggleable__content\"><pre>LinearRegression()</pre></div></div></div></div></div>"
      ],
      "text/plain": [
       "LinearRegression()"
      ]
     },
     "execution_count": 262,
     "metadata": {},
     "output_type": "execute_result"
    }
   ],
   "source": [
    "linreg_backward = LinearRegression()\n",
    "linreg_backward.fit(x_backward_train,y_backward_train)"
   ]
  },
  {
   "cell_type": "code",
   "execution_count": 263,
   "id": "4dda995e",
   "metadata": {},
   "outputs": [],
   "source": [
    "y_backward_pred = linreg_backward.predict(x_backward_test)"
   ]
  },
  {
   "cell_type": "code",
   "execution_count": 264,
   "id": "7f30c2b7",
   "metadata": {},
   "outputs": [],
   "source": [
    "mse_backward = mean_squared_error(y_backward_test,y_backward_pred)\n",
    "rmse_backward = sqrt(mse_backward)\n",
    "r2_backward = r2_score(y_backward_test, y_backward_pred)\n",
    "n_backward = x_backward_test.shape[0]  # number of samples\n",
    "k_backward = x_backward_test.shape[1]  # number of features\n",
    "r2_adj_backward = 1 - ((1 - r2_backward) * (n_backward - 1) / (n_backward - k_backward - 1))"
   ]
  },
  {
   "cell_type": "code",
   "execution_count": 265,
   "id": "b6fb172b",
   "metadata": {},
   "outputs": [
    {
     "name": "stdout",
     "output_type": "stream",
     "text": [
      "Evaluationsergebnisse von linearer Regression nach Backward-Imputation:\n",
      "\n"
     ]
    },
    {
     "data": {
      "text/html": [
       "<div>\n",
       "<style scoped>\n",
       "    .dataframe tbody tr th:only-of-type {\n",
       "        vertical-align: middle;\n",
       "    }\n",
       "\n",
       "    .dataframe tbody tr th {\n",
       "        vertical-align: top;\n",
       "    }\n",
       "\n",
       "    .dataframe thead th {\n",
       "        text-align: right;\n",
       "    }\n",
       "</style>\n",
       "<table border=\"1\" class=\"dataframe\">\n",
       "  <thead>\n",
       "    <tr style=\"text-align: right;\">\n",
       "      <th></th>\n",
       "      <th>Evalutionsmetriken</th>\n",
       "      <th>Scores</th>\n",
       "    </tr>\n",
       "  </thead>\n",
       "  <tbody>\n",
       "    <tr>\n",
       "      <th>0</th>\n",
       "      <td>Mean-squared-error (MSE)</td>\n",
       "      <td>4.318151</td>\n",
       "    </tr>\n",
       "    <tr>\n",
       "      <th>1</th>\n",
       "      <td>Root-mean-sqaured-error (RMSE)</td>\n",
       "      <td>2.078016</td>\n",
       "    </tr>\n",
       "    <tr>\n",
       "      <th>2</th>\n",
       "      <td>R2-score</td>\n",
       "      <td>0.952291</td>\n",
       "    </tr>\n",
       "    <tr>\n",
       "      <th>3</th>\n",
       "      <td>Angepasster R2-Score</td>\n",
       "      <td>0.951126</td>\n",
       "    </tr>\n",
       "  </tbody>\n",
       "</table>\n",
       "</div>"
      ],
      "text/plain": [
       "               Evalutionsmetriken    Scores\n",
       "0        Mean-squared-error (MSE)  4.318151\n",
       "1  Root-mean-sqaured-error (RMSE)  2.078016\n",
       "2                        R2-score  0.952291\n",
       "3            Angepasster R2-Score  0.951126"
      ]
     },
     "execution_count": 265,
     "metadata": {},
     "output_type": "execute_result"
    }
   ],
   "source": [
    "LinReg_backward = pd.DataFrame({'Evalutionsmetriken': ['Mean-squared-error (MSE)','Root-mean-sqaured-error (RMSE)','R2-score','Angepasster R2-Score'],\n",
    "                               'Scores': [mse_backward, rmse_backward, r2_backward, r2_adj_backward]})\n",
    "print('Evaluationsergebnisse von linearer Regression nach Backward-Imputation:\\n')\n",
    "LinReg_backward"
   ]
  },
  {
   "cell_type": "markdown",
   "id": "3551258a",
   "metadata": {},
   "source": [
    "### 4. Mean-Imputation"
   ]
  },
  {
   "cell_type": "code",
   "execution_count": 266,
   "id": "f731856d",
   "metadata": {},
   "outputs": [],
   "source": [
    "for col in df_mean.columns:\n",
    "        df_mean[col].fillna(df_mean[col].mean(),inplace=True)"
   ]
  },
  {
   "cell_type": "code",
   "execution_count": 267,
   "id": "3b5ecf77",
   "metadata": {},
   "outputs": [
    {
     "data": {
      "text/plain": [
       "Country                            0\n",
       "Year                               0\n",
       "Status                             0\n",
       "Life expectancy                    0\n",
       "Adult Mortality                    0\n",
       "infant deaths                      0\n",
       "Alcohol                            0\n",
       "percentage expenditure             0\n",
       "Hepatitis B                        0\n",
       "Measles                            0\n",
       "BMI                                0\n",
       "under-five deaths                  0\n",
       "Polio                              0\n",
       "Total expenditure                  0\n",
       "Diphtheria                         0\n",
       "HIV/AIDS                           0\n",
       "GDP                                0\n",
       "Population                         0\n",
       "thinness  1-19 years               0\n",
       "thinness 5-9 years                 0\n",
       "Income composition of resources    0\n",
       "Schooling                          0\n",
       "dtype: int64"
      ]
     },
     "execution_count": 267,
     "metadata": {},
     "output_type": "execute_result"
    }
   ],
   "source": [
    "df_mean.isnull().sum()"
   ]
  },
  {
   "cell_type": "code",
   "execution_count": 268,
   "id": "4a3dd490",
   "metadata": {},
   "outputs": [],
   "source": [
    "x_mean = df_mean.drop('Life expectancy',axis=1)\n",
    "y_mean = df_mean['Life expectancy']\n",
    "y_mean = pd.DataFrame(y_mean)"
   ]
  },
  {
   "cell_type": "code",
   "execution_count": 269,
   "id": "3f7d0911",
   "metadata": {},
   "outputs": [],
   "source": [
    "x_mean_train, x_mean_test, y_mean_train, y_mean_test =  train_test_split(x_mean,y_mean,test_size=.30)"
   ]
  },
  {
   "cell_type": "code",
   "execution_count": 270,
   "id": "42024510",
   "metadata": {},
   "outputs": [
    {
     "name": "stdout",
     "output_type": "stream",
     "text": [
      "X_train:  (2056, 21)\n",
      "X_test:  (882, 21)\n",
      "y_train:  (2056, 1)\n",
      "y_test:  (882, 1)\n"
     ]
    }
   ],
   "source": [
    "print(\"X_train: \",x_mean_train.shape)\n",
    "print(\"X_test: \",x_mean_test.shape)\n",
    "print(\"y_train: \",y_mean_train.shape)\n",
    "print(\"y_test: \",y_mean_test.shape)"
   ]
  },
  {
   "cell_type": "code",
   "execution_count": 271,
   "id": "05f03f03",
   "metadata": {},
   "outputs": [
    {
     "data": {
      "text/html": [
       "<style>#sk-container-id-19 {color: black;}#sk-container-id-19 pre{padding: 0;}#sk-container-id-19 div.sk-toggleable {background-color: white;}#sk-container-id-19 label.sk-toggleable__label {cursor: pointer;display: block;width: 100%;margin-bottom: 0;padding: 0.3em;box-sizing: border-box;text-align: center;}#sk-container-id-19 label.sk-toggleable__label-arrow:before {content: \"▸\";float: left;margin-right: 0.25em;color: #696969;}#sk-container-id-19 label.sk-toggleable__label-arrow:hover:before {color: black;}#sk-container-id-19 div.sk-estimator:hover label.sk-toggleable__label-arrow:before {color: black;}#sk-container-id-19 div.sk-toggleable__content {max-height: 0;max-width: 0;overflow: hidden;text-align: left;background-color: #f0f8ff;}#sk-container-id-19 div.sk-toggleable__content pre {margin: 0.2em;color: black;border-radius: 0.25em;background-color: #f0f8ff;}#sk-container-id-19 input.sk-toggleable__control:checked~div.sk-toggleable__content {max-height: 200px;max-width: 100%;overflow: auto;}#sk-container-id-19 input.sk-toggleable__control:checked~label.sk-toggleable__label-arrow:before {content: \"▾\";}#sk-container-id-19 div.sk-estimator input.sk-toggleable__control:checked~label.sk-toggleable__label {background-color: #d4ebff;}#sk-container-id-19 div.sk-label input.sk-toggleable__control:checked~label.sk-toggleable__label {background-color: #d4ebff;}#sk-container-id-19 input.sk-hidden--visually {border: 0;clip: rect(1px 1px 1px 1px);clip: rect(1px, 1px, 1px, 1px);height: 1px;margin: -1px;overflow: hidden;padding: 0;position: absolute;width: 1px;}#sk-container-id-19 div.sk-estimator {font-family: monospace;background-color: #f0f8ff;border: 1px dotted black;border-radius: 0.25em;box-sizing: border-box;margin-bottom: 0.5em;}#sk-container-id-19 div.sk-estimator:hover {background-color: #d4ebff;}#sk-container-id-19 div.sk-parallel-item::after {content: \"\";width: 100%;border-bottom: 1px solid gray;flex-grow: 1;}#sk-container-id-19 div.sk-label:hover label.sk-toggleable__label {background-color: #d4ebff;}#sk-container-id-19 div.sk-serial::before {content: \"\";position: absolute;border-left: 1px solid gray;box-sizing: border-box;top: 0;bottom: 0;left: 50%;z-index: 0;}#sk-container-id-19 div.sk-serial {display: flex;flex-direction: column;align-items: center;background-color: white;padding-right: 0.2em;padding-left: 0.2em;position: relative;}#sk-container-id-19 div.sk-item {position: relative;z-index: 1;}#sk-container-id-19 div.sk-parallel {display: flex;align-items: stretch;justify-content: center;background-color: white;position: relative;}#sk-container-id-19 div.sk-item::before, #sk-container-id-19 div.sk-parallel-item::before {content: \"\";position: absolute;border-left: 1px solid gray;box-sizing: border-box;top: 0;bottom: 0;left: 50%;z-index: -1;}#sk-container-id-19 div.sk-parallel-item {display: flex;flex-direction: column;z-index: 1;position: relative;background-color: white;}#sk-container-id-19 div.sk-parallel-item:first-child::after {align-self: flex-end;width: 50%;}#sk-container-id-19 div.sk-parallel-item:last-child::after {align-self: flex-start;width: 50%;}#sk-container-id-19 div.sk-parallel-item:only-child::after {width: 0;}#sk-container-id-19 div.sk-dashed-wrapped {border: 1px dashed gray;margin: 0 0.4em 0.5em 0.4em;box-sizing: border-box;padding-bottom: 0.4em;background-color: white;}#sk-container-id-19 div.sk-label label {font-family: monospace;font-weight: bold;display: inline-block;line-height: 1.2em;}#sk-container-id-19 div.sk-label-container {text-align: center;}#sk-container-id-19 div.sk-container {/* jupyter's `normalize.less` sets `[hidden] { display: none; }` but bootstrap.min.css set `[hidden] { display: none !important; }` so we also need the `!important` here to be able to override the default hidden behavior on the sphinx rendered scikit-learn.org. See: https://github.com/scikit-learn/scikit-learn/issues/21755 */display: inline-block !important;position: relative;}#sk-container-id-19 div.sk-text-repr-fallback {display: none;}</style><div id=\"sk-container-id-19\" class=\"sk-top-container\"><div class=\"sk-text-repr-fallback\"><pre>LinearRegression()</pre><b>In a Jupyter environment, please rerun this cell to show the HTML representation or trust the notebook. <br />On GitHub, the HTML representation is unable to render, please try loading this page with nbviewer.org.</b></div><div class=\"sk-container\" hidden><div class=\"sk-item\"><div class=\"sk-estimator sk-toggleable\"><input class=\"sk-toggleable__control sk-hidden--visually\" id=\"sk-estimator-id-19\" type=\"checkbox\" checked><label for=\"sk-estimator-id-19\" class=\"sk-toggleable__label sk-toggleable__label-arrow\">LinearRegression</label><div class=\"sk-toggleable__content\"><pre>LinearRegression()</pre></div></div></div></div></div>"
      ],
      "text/plain": [
       "LinearRegression()"
      ]
     },
     "execution_count": 271,
     "metadata": {},
     "output_type": "execute_result"
    }
   ],
   "source": [
    "linreg_mean = LinearRegression()\n",
    "linreg_mean.fit(x_mean_train,y_mean_train)"
   ]
  },
  {
   "cell_type": "code",
   "execution_count": 272,
   "id": "e54ebdef",
   "metadata": {},
   "outputs": [],
   "source": [
    "y_mean_pred = linreg.predict(x_mean_test)"
   ]
  },
  {
   "cell_type": "code",
   "execution_count": 273,
   "id": "e3eea62a",
   "metadata": {},
   "outputs": [
    {
     "name": "stdout",
     "output_type": "stream",
     "text": [
      "Evaluationsergebnisse von linearer Regression nach Mean-Imputation:\n",
      "\n"
     ]
    },
    {
     "data": {
      "text/html": [
       "<div>\n",
       "<style scoped>\n",
       "    .dataframe tbody tr th:only-of-type {\n",
       "        vertical-align: middle;\n",
       "    }\n",
       "\n",
       "    .dataframe tbody tr th {\n",
       "        vertical-align: top;\n",
       "    }\n",
       "\n",
       "    .dataframe thead th {\n",
       "        text-align: right;\n",
       "    }\n",
       "</style>\n",
       "<table border=\"1\" class=\"dataframe\">\n",
       "  <thead>\n",
       "    <tr style=\"text-align: right;\">\n",
       "      <th></th>\n",
       "      <th>Evalutionsmetriken</th>\n",
       "      <th>Scores</th>\n",
       "    </tr>\n",
       "  </thead>\n",
       "  <tbody>\n",
       "    <tr>\n",
       "      <th>0</th>\n",
       "      <td>Mean-squared-error (MSE)</td>\n",
       "      <td>3.819892</td>\n",
       "    </tr>\n",
       "    <tr>\n",
       "      <th>1</th>\n",
       "      <td>Root-mean-sqaured-error (RMSE)</td>\n",
       "      <td>1.954454</td>\n",
       "    </tr>\n",
       "    <tr>\n",
       "      <th>2</th>\n",
       "      <td>R2-score</td>\n",
       "      <td>0.961368</td>\n",
       "    </tr>\n",
       "    <tr>\n",
       "      <th>3</th>\n",
       "      <td>Angepasster R2-Score</td>\n",
       "      <td>0.960424</td>\n",
       "    </tr>\n",
       "  </tbody>\n",
       "</table>\n",
       "</div>"
      ],
      "text/plain": [
       "               Evalutionsmetriken    Scores\n",
       "0        Mean-squared-error (MSE)  3.819892\n",
       "1  Root-mean-sqaured-error (RMSE)  1.954454\n",
       "2                        R2-score  0.961368\n",
       "3            Angepasster R2-Score  0.960424"
      ]
     },
     "execution_count": 273,
     "metadata": {},
     "output_type": "execute_result"
    }
   ],
   "source": [
    "mse_mean = mean_squared_error(y_mean_test,y_mean_pred)\n",
    "rmse_mean = sqrt(mse_mean)\n",
    "r2_mean = r2_score(y_mean_test, y_mean_pred)\n",
    "n_mean = x_mean_test.shape[0]  # number of samples\n",
    "k_mean = x_mean_test.shape[1]  # number of features\n",
    "r2_adj_mean = 1 - ((1 - r2_mean) * (n_mean - 1) / (n_mean - k_mean - 1))\n",
    "\n",
    "LinReg_mean = pd.DataFrame({'Evalutionsmetriken': ['Mean-squared-error (MSE)','Root-mean-sqaured-error (RMSE)','R2-score','Angepasster R2-Score'],\n",
    "                               'Scores': [mse_mean, rmse_mean, r2_mean, r2_adj_mean]})\n",
    "print('Evaluationsergebnisse von linearer Regression nach Mean-Imputation:\\n')\n",
    "LinReg_mean"
   ]
  },
  {
   "cell_type": "markdown",
   "id": "336a828a",
   "metadata": {},
   "source": [
    "### 5. Median Imputation"
   ]
  },
  {
   "cell_type": "code",
   "execution_count": 274,
   "id": "ef3d8f58",
   "metadata": {},
   "outputs": [],
   "source": [
    "for col in df_median.columns:\n",
    "        df_median[col].fillna(df_median[col].median(),inplace=True)"
   ]
  },
  {
   "cell_type": "code",
   "execution_count": 275,
   "id": "cf408272",
   "metadata": {},
   "outputs": [
    {
     "data": {
      "text/plain": [
       "Country                            0\n",
       "Year                               0\n",
       "Status                             0\n",
       "Life expectancy                    0\n",
       "Adult Mortality                    0\n",
       "infant deaths                      0\n",
       "Alcohol                            0\n",
       "percentage expenditure             0\n",
       "Hepatitis B                        0\n",
       "Measles                            0\n",
       "BMI                                0\n",
       "under-five deaths                  0\n",
       "Polio                              0\n",
       "Total expenditure                  0\n",
       "Diphtheria                         0\n",
       "HIV/AIDS                           0\n",
       "GDP                                0\n",
       "Population                         0\n",
       "thinness  1-19 years               0\n",
       "thinness 5-9 years                 0\n",
       "Income composition of resources    0\n",
       "Schooling                          0\n",
       "dtype: int64"
      ]
     },
     "execution_count": 275,
     "metadata": {},
     "output_type": "execute_result"
    }
   ],
   "source": [
    "df_median.isnull().sum()"
   ]
  },
  {
   "cell_type": "code",
   "execution_count": 276,
   "id": "5a77a526",
   "metadata": {},
   "outputs": [],
   "source": [
    "x_median = df_median.drop('Life expectancy',axis=1)\n",
    "y_median = df_median['Life expectancy']\n",
    "y_median = pd.DataFrame(y_median)"
   ]
  },
  {
   "cell_type": "code",
   "execution_count": 277,
   "id": "d88df5a9",
   "metadata": {},
   "outputs": [],
   "source": [
    "x_median_train, x_median_test, y_median_train, y_median_test =  train_test_split(x_median,y_median,test_size=.30)"
   ]
  },
  {
   "cell_type": "code",
   "execution_count": 278,
   "id": "63d89222",
   "metadata": {},
   "outputs": [
    {
     "name": "stdout",
     "output_type": "stream",
     "text": [
      "X_train:  (2056, 21)\n",
      "X_test:  (882, 21)\n",
      "y_train:  (2056, 1)\n",
      "y_test:  (882, 1)\n"
     ]
    }
   ],
   "source": [
    "print(\"X_train: \",x_median_train.shape)\n",
    "print(\"X_test: \",x_median_test.shape)\n",
    "print(\"y_train: \",y_median_train.shape)\n",
    "print(\"y_test: \",y_median_test.shape)"
   ]
  },
  {
   "cell_type": "code",
   "execution_count": 279,
   "id": "65abab10",
   "metadata": {},
   "outputs": [
    {
     "data": {
      "text/html": [
       "<style>#sk-container-id-20 {color: black;}#sk-container-id-20 pre{padding: 0;}#sk-container-id-20 div.sk-toggleable {background-color: white;}#sk-container-id-20 label.sk-toggleable__label {cursor: pointer;display: block;width: 100%;margin-bottom: 0;padding: 0.3em;box-sizing: border-box;text-align: center;}#sk-container-id-20 label.sk-toggleable__label-arrow:before {content: \"▸\";float: left;margin-right: 0.25em;color: #696969;}#sk-container-id-20 label.sk-toggleable__label-arrow:hover:before {color: black;}#sk-container-id-20 div.sk-estimator:hover label.sk-toggleable__label-arrow:before {color: black;}#sk-container-id-20 div.sk-toggleable__content {max-height: 0;max-width: 0;overflow: hidden;text-align: left;background-color: #f0f8ff;}#sk-container-id-20 div.sk-toggleable__content pre {margin: 0.2em;color: black;border-radius: 0.25em;background-color: #f0f8ff;}#sk-container-id-20 input.sk-toggleable__control:checked~div.sk-toggleable__content {max-height: 200px;max-width: 100%;overflow: auto;}#sk-container-id-20 input.sk-toggleable__control:checked~label.sk-toggleable__label-arrow:before {content: \"▾\";}#sk-container-id-20 div.sk-estimator input.sk-toggleable__control:checked~label.sk-toggleable__label {background-color: #d4ebff;}#sk-container-id-20 div.sk-label input.sk-toggleable__control:checked~label.sk-toggleable__label {background-color: #d4ebff;}#sk-container-id-20 input.sk-hidden--visually {border: 0;clip: rect(1px 1px 1px 1px);clip: rect(1px, 1px, 1px, 1px);height: 1px;margin: -1px;overflow: hidden;padding: 0;position: absolute;width: 1px;}#sk-container-id-20 div.sk-estimator {font-family: monospace;background-color: #f0f8ff;border: 1px dotted black;border-radius: 0.25em;box-sizing: border-box;margin-bottom: 0.5em;}#sk-container-id-20 div.sk-estimator:hover {background-color: #d4ebff;}#sk-container-id-20 div.sk-parallel-item::after {content: \"\";width: 100%;border-bottom: 1px solid gray;flex-grow: 1;}#sk-container-id-20 div.sk-label:hover label.sk-toggleable__label {background-color: #d4ebff;}#sk-container-id-20 div.sk-serial::before {content: \"\";position: absolute;border-left: 1px solid gray;box-sizing: border-box;top: 0;bottom: 0;left: 50%;z-index: 0;}#sk-container-id-20 div.sk-serial {display: flex;flex-direction: column;align-items: center;background-color: white;padding-right: 0.2em;padding-left: 0.2em;position: relative;}#sk-container-id-20 div.sk-item {position: relative;z-index: 1;}#sk-container-id-20 div.sk-parallel {display: flex;align-items: stretch;justify-content: center;background-color: white;position: relative;}#sk-container-id-20 div.sk-item::before, #sk-container-id-20 div.sk-parallel-item::before {content: \"\";position: absolute;border-left: 1px solid gray;box-sizing: border-box;top: 0;bottom: 0;left: 50%;z-index: -1;}#sk-container-id-20 div.sk-parallel-item {display: flex;flex-direction: column;z-index: 1;position: relative;background-color: white;}#sk-container-id-20 div.sk-parallel-item:first-child::after {align-self: flex-end;width: 50%;}#sk-container-id-20 div.sk-parallel-item:last-child::after {align-self: flex-start;width: 50%;}#sk-container-id-20 div.sk-parallel-item:only-child::after {width: 0;}#sk-container-id-20 div.sk-dashed-wrapped {border: 1px dashed gray;margin: 0 0.4em 0.5em 0.4em;box-sizing: border-box;padding-bottom: 0.4em;background-color: white;}#sk-container-id-20 div.sk-label label {font-family: monospace;font-weight: bold;display: inline-block;line-height: 1.2em;}#sk-container-id-20 div.sk-label-container {text-align: center;}#sk-container-id-20 div.sk-container {/* jupyter's `normalize.less` sets `[hidden] { display: none; }` but bootstrap.min.css set `[hidden] { display: none !important; }` so we also need the `!important` here to be able to override the default hidden behavior on the sphinx rendered scikit-learn.org. See: https://github.com/scikit-learn/scikit-learn/issues/21755 */display: inline-block !important;position: relative;}#sk-container-id-20 div.sk-text-repr-fallback {display: none;}</style><div id=\"sk-container-id-20\" class=\"sk-top-container\"><div class=\"sk-text-repr-fallback\"><pre>LinearRegression()</pre><b>In a Jupyter environment, please rerun this cell to show the HTML representation or trust the notebook. <br />On GitHub, the HTML representation is unable to render, please try loading this page with nbviewer.org.</b></div><div class=\"sk-container\" hidden><div class=\"sk-item\"><div class=\"sk-estimator sk-toggleable\"><input class=\"sk-toggleable__control sk-hidden--visually\" id=\"sk-estimator-id-20\" type=\"checkbox\" checked><label for=\"sk-estimator-id-20\" class=\"sk-toggleable__label sk-toggleable__label-arrow\">LinearRegression</label><div class=\"sk-toggleable__content\"><pre>LinearRegression()</pre></div></div></div></div></div>"
      ],
      "text/plain": [
       "LinearRegression()"
      ]
     },
     "execution_count": 279,
     "metadata": {},
     "output_type": "execute_result"
    }
   ],
   "source": [
    "linreg_median = LinearRegression()\n",
    "linreg_median.fit(x_median_train,y_median_train)"
   ]
  },
  {
   "cell_type": "code",
   "execution_count": 280,
   "id": "d1055a6c",
   "metadata": {},
   "outputs": [],
   "source": [
    "y_median_pred = linreg.predict(x_median_test)"
   ]
  },
  {
   "cell_type": "code",
   "execution_count": 281,
   "id": "105bd46c",
   "metadata": {},
   "outputs": [],
   "source": [
    "mse_median = mean_squared_error(y_median_test,y_median_pred)\n",
    "rmse_median = sqrt(mse_median)\n",
    "r2_median = r2_score(y_median_test, y_median_pred)\n",
    "n_median = x_median_test.shape[0]  # number of samples\n",
    "k_median = x_median_test.shape[1]  # number of features\n",
    "r2_adj_median = 1 - ((1 - r2_median) * (n_median - 1) / (n_median - k_median - 1))"
   ]
  },
  {
   "cell_type": "code",
   "execution_count": 282,
   "id": "3110843e",
   "metadata": {
    "scrolled": true
   },
   "outputs": [
    {
     "name": "stdout",
     "output_type": "stream",
     "text": [
      "Evaluationsergebnisse von linearer Regression nach Median-Imputation:\n",
      "\n"
     ]
    },
    {
     "data": {
      "text/html": [
       "<div>\n",
       "<style scoped>\n",
       "    .dataframe tbody tr th:only-of-type {\n",
       "        vertical-align: middle;\n",
       "    }\n",
       "\n",
       "    .dataframe tbody tr th {\n",
       "        vertical-align: top;\n",
       "    }\n",
       "\n",
       "    .dataframe thead th {\n",
       "        text-align: right;\n",
       "    }\n",
       "</style>\n",
       "<table border=\"1\" class=\"dataframe\">\n",
       "  <thead>\n",
       "    <tr style=\"text-align: right;\">\n",
       "      <th></th>\n",
       "      <th>Evalutionsmetriken</th>\n",
       "      <th>Scores</th>\n",
       "    </tr>\n",
       "  </thead>\n",
       "  <tbody>\n",
       "    <tr>\n",
       "      <th>0</th>\n",
       "      <td>Mean-squared-error (MSE)</td>\n",
       "      <td>3.682943</td>\n",
       "    </tr>\n",
       "    <tr>\n",
       "      <th>1</th>\n",
       "      <td>Root-mean-sqaured-error (RMSE)</td>\n",
       "      <td>1.919100</td>\n",
       "    </tr>\n",
       "    <tr>\n",
       "      <th>2</th>\n",
       "      <td>R2-score</td>\n",
       "      <td>0.958909</td>\n",
       "    </tr>\n",
       "    <tr>\n",
       "      <th>3</th>\n",
       "      <td>Angepasster R2-Score</td>\n",
       "      <td>0.957906</td>\n",
       "    </tr>\n",
       "  </tbody>\n",
       "</table>\n",
       "</div>"
      ],
      "text/plain": [
       "               Evalutionsmetriken    Scores\n",
       "0        Mean-squared-error (MSE)  3.682943\n",
       "1  Root-mean-sqaured-error (RMSE)  1.919100\n",
       "2                        R2-score  0.958909\n",
       "3            Angepasster R2-Score  0.957906"
      ]
     },
     "execution_count": 282,
     "metadata": {},
     "output_type": "execute_result"
    }
   ],
   "source": [
    "LinReg_median = pd.DataFrame({'Evalutionsmetriken': ['Mean-squared-error (MSE)','Root-mean-sqaured-error (RMSE)','R2-score','Angepasster R2-Score'],\n",
    "                               'Scores': [mse_median, rmse_median, r2_median, r2_adj_median]})\n",
    "print('Evaluationsergebnisse von linearer Regression nach Median-Imputation:\\n')\n",
    "LinReg_median"
   ]
  },
  {
   "cell_type": "markdown",
   "id": "f848c676",
   "metadata": {},
   "source": [
    "### 6. KNN-Imputer (K-Nearest-Neighbours)"
   ]
  },
  {
   "cell_type": "code",
   "execution_count": 284,
   "id": "d7720853",
   "metadata": {},
   "outputs": [],
   "source": [
    "from sklearn.impute import KNNImputer"
   ]
  },
  {
   "cell_type": "code",
   "execution_count": 285,
   "id": "43f9f774",
   "metadata": {},
   "outputs": [],
   "source": [
    "imputer = KNNImputer(n_neighbors=2) # Da der Datensatz klein ist, wäre die Hyperparameterauswahl k zw. 1 und 3 ideal\n",
    "df_filled = imputer.fit_transform(df_knn)"
   ]
  },
  {
   "cell_type": "code",
   "execution_count": 286,
   "id": "2a166a3f",
   "metadata": {},
   "outputs": [],
   "source": [
    "df_knn_imputed = pd.DataFrame(df_filled, columns=df_knn.columns)"
   ]
  },
  {
   "cell_type": "code",
   "execution_count": 287,
   "id": "d21a62e2",
   "metadata": {},
   "outputs": [
    {
     "data": {
      "text/html": [
       "<div>\n",
       "<style scoped>\n",
       "    .dataframe tbody tr th:only-of-type {\n",
       "        vertical-align: middle;\n",
       "    }\n",
       "\n",
       "    .dataframe tbody tr th {\n",
       "        vertical-align: top;\n",
       "    }\n",
       "\n",
       "    .dataframe thead th {\n",
       "        text-align: right;\n",
       "    }\n",
       "</style>\n",
       "<table border=\"1\" class=\"dataframe\">\n",
       "  <thead>\n",
       "    <tr style=\"text-align: right;\">\n",
       "      <th></th>\n",
       "      <th>Country</th>\n",
       "      <th>Year</th>\n",
       "      <th>Status</th>\n",
       "      <th>Life expectancy</th>\n",
       "      <th>Adult Mortality</th>\n",
       "      <th>infant deaths</th>\n",
       "      <th>Alcohol</th>\n",
       "      <th>percentage expenditure</th>\n",
       "      <th>Hepatitis B</th>\n",
       "      <th>Measles</th>\n",
       "      <th>BMI</th>\n",
       "      <th>under-five deaths</th>\n",
       "      <th>Polio</th>\n",
       "      <th>Total expenditure</th>\n",
       "      <th>Diphtheria</th>\n",
       "      <th>HIV/AIDS</th>\n",
       "      <th>GDP</th>\n",
       "      <th>Population</th>\n",
       "      <th>thinness  1-19 years</th>\n",
       "      <th>thinness 5-9 years</th>\n",
       "      <th>Income composition of resources</th>\n",
       "      <th>Schooling</th>\n",
       "    </tr>\n",
       "  </thead>\n",
       "  <tbody>\n",
       "    <tr>\n",
       "      <th>0</th>\n",
       "      <td>64.797982</td>\n",
       "      <td>2015.0</td>\n",
       "      <td>0.0</td>\n",
       "      <td>65.0</td>\n",
       "      <td>263.0</td>\n",
       "      <td>62.0</td>\n",
       "      <td>0.01</td>\n",
       "      <td>71.279624</td>\n",
       "      <td>65.0</td>\n",
       "      <td>1154.0</td>\n",
       "      <td>19.1</td>\n",
       "      <td>83.0</td>\n",
       "      <td>6.0</td>\n",
       "      <td>8.16</td>\n",
       "      <td>65.0</td>\n",
       "      <td>0.1</td>\n",
       "      <td>584.259210</td>\n",
       "      <td>33736494.0</td>\n",
       "      <td>17.2</td>\n",
       "      <td>17.3</td>\n",
       "      <td>0.479</td>\n",
       "      <td>10.1</td>\n",
       "    </tr>\n",
       "    <tr>\n",
       "      <th>1</th>\n",
       "      <td>64.797982</td>\n",
       "      <td>2014.0</td>\n",
       "      <td>0.0</td>\n",
       "      <td>59.9</td>\n",
       "      <td>271.0</td>\n",
       "      <td>64.0</td>\n",
       "      <td>0.01</td>\n",
       "      <td>73.523582</td>\n",
       "      <td>62.0</td>\n",
       "      <td>492.0</td>\n",
       "      <td>18.6</td>\n",
       "      <td>86.0</td>\n",
       "      <td>58.0</td>\n",
       "      <td>8.18</td>\n",
       "      <td>62.0</td>\n",
       "      <td>0.1</td>\n",
       "      <td>612.696514</td>\n",
       "      <td>327582.0</td>\n",
       "      <td>17.5</td>\n",
       "      <td>17.5</td>\n",
       "      <td>0.476</td>\n",
       "      <td>10.0</td>\n",
       "    </tr>\n",
       "    <tr>\n",
       "      <th>2</th>\n",
       "      <td>64.797982</td>\n",
       "      <td>2013.0</td>\n",
       "      <td>0.0</td>\n",
       "      <td>59.9</td>\n",
       "      <td>268.0</td>\n",
       "      <td>66.0</td>\n",
       "      <td>0.01</td>\n",
       "      <td>73.219243</td>\n",
       "      <td>64.0</td>\n",
       "      <td>430.0</td>\n",
       "      <td>18.1</td>\n",
       "      <td>89.0</td>\n",
       "      <td>62.0</td>\n",
       "      <td>8.13</td>\n",
       "      <td>64.0</td>\n",
       "      <td>0.1</td>\n",
       "      <td>631.744976</td>\n",
       "      <td>31731688.0</td>\n",
       "      <td>17.7</td>\n",
       "      <td>17.7</td>\n",
       "      <td>0.470</td>\n",
       "      <td>9.9</td>\n",
       "    </tr>\n",
       "    <tr>\n",
       "      <th>3</th>\n",
       "      <td>64.797982</td>\n",
       "      <td>2012.0</td>\n",
       "      <td>0.0</td>\n",
       "      <td>59.5</td>\n",
       "      <td>272.0</td>\n",
       "      <td>69.0</td>\n",
       "      <td>0.01</td>\n",
       "      <td>78.184215</td>\n",
       "      <td>67.0</td>\n",
       "      <td>2787.0</td>\n",
       "      <td>17.6</td>\n",
       "      <td>93.0</td>\n",
       "      <td>67.0</td>\n",
       "      <td>8.52</td>\n",
       "      <td>67.0</td>\n",
       "      <td>0.1</td>\n",
       "      <td>669.959000</td>\n",
       "      <td>3696958.0</td>\n",
       "      <td>17.9</td>\n",
       "      <td>18.0</td>\n",
       "      <td>0.463</td>\n",
       "      <td>9.8</td>\n",
       "    </tr>\n",
       "    <tr>\n",
       "      <th>4</th>\n",
       "      <td>64.797982</td>\n",
       "      <td>2011.0</td>\n",
       "      <td>0.0</td>\n",
       "      <td>59.2</td>\n",
       "      <td>275.0</td>\n",
       "      <td>71.0</td>\n",
       "      <td>0.01</td>\n",
       "      <td>7.097109</td>\n",
       "      <td>68.0</td>\n",
       "      <td>3013.0</td>\n",
       "      <td>17.2</td>\n",
       "      <td>97.0</td>\n",
       "      <td>68.0</td>\n",
       "      <td>7.87</td>\n",
       "      <td>68.0</td>\n",
       "      <td>0.1</td>\n",
       "      <td>63.537231</td>\n",
       "      <td>2978599.0</td>\n",
       "      <td>18.2</td>\n",
       "      <td>18.2</td>\n",
       "      <td>0.454</td>\n",
       "      <td>9.5</td>\n",
       "    </tr>\n",
       "  </tbody>\n",
       "</table>\n",
       "</div>"
      ],
      "text/plain": [
       "     Country    Year  Status  Life expectancy  Adult Mortality  infant deaths  \\\n",
       "0  64.797982  2015.0     0.0             65.0            263.0           62.0   \n",
       "1  64.797982  2014.0     0.0             59.9            271.0           64.0   \n",
       "2  64.797982  2013.0     0.0             59.9            268.0           66.0   \n",
       "3  64.797982  2012.0     0.0             59.5            272.0           69.0   \n",
       "4  64.797982  2011.0     0.0             59.2            275.0           71.0   \n",
       "\n",
       "   Alcohol  percentage expenditure  Hepatitis B  Measles   BMI  \\\n",
       "0     0.01               71.279624         65.0   1154.0  19.1   \n",
       "1     0.01               73.523582         62.0    492.0  18.6   \n",
       "2     0.01               73.219243         64.0    430.0  18.1   \n",
       "3     0.01               78.184215         67.0   2787.0  17.6   \n",
       "4     0.01                7.097109         68.0   3013.0  17.2   \n",
       "\n",
       "   under-five deaths  Polio  Total expenditure  Diphtheria  HIV/AIDS  \\\n",
       "0               83.0    6.0               8.16        65.0       0.1   \n",
       "1               86.0   58.0               8.18        62.0       0.1   \n",
       "2               89.0   62.0               8.13        64.0       0.1   \n",
       "3               93.0   67.0               8.52        67.0       0.1   \n",
       "4               97.0   68.0               7.87        68.0       0.1   \n",
       "\n",
       "          GDP  Population  thinness  1-19 years  thinness 5-9 years  \\\n",
       "0  584.259210  33736494.0                  17.2                17.3   \n",
       "1  612.696514    327582.0                  17.5                17.5   \n",
       "2  631.744976  31731688.0                  17.7                17.7   \n",
       "3  669.959000   3696958.0                  17.9                18.0   \n",
       "4   63.537231   2978599.0                  18.2                18.2   \n",
       "\n",
       "   Income composition of resources  Schooling  \n",
       "0                            0.479       10.1  \n",
       "1                            0.476       10.0  \n",
       "2                            0.470        9.9  \n",
       "3                            0.463        9.8  \n",
       "4                            0.454        9.5  "
      ]
     },
     "execution_count": 287,
     "metadata": {},
     "output_type": "execute_result"
    }
   ],
   "source": [
    "df_knn_imputed.head(5)"
   ]
  },
  {
   "cell_type": "code",
   "execution_count": 288,
   "id": "a1267e02",
   "metadata": {},
   "outputs": [
    {
     "data": {
      "text/plain": [
       "Country                            0\n",
       "Year                               0\n",
       "Status                             0\n",
       "Life expectancy                    0\n",
       "Adult Mortality                    0\n",
       "infant deaths                      0\n",
       "Alcohol                            0\n",
       "percentage expenditure             0\n",
       "Hepatitis B                        0\n",
       "Measles                            0\n",
       "BMI                                0\n",
       "under-five deaths                  0\n",
       "Polio                              0\n",
       "Total expenditure                  0\n",
       "Diphtheria                         0\n",
       "HIV/AIDS                           0\n",
       "GDP                                0\n",
       "Population                         0\n",
       "thinness  1-19 years               0\n",
       "thinness 5-9 years                 0\n",
       "Income composition of resources    0\n",
       "Schooling                          0\n",
       "dtype: int64"
      ]
     },
     "execution_count": 288,
     "metadata": {},
     "output_type": "execute_result"
    }
   ],
   "source": [
    "df_knn_imputed.isnull().sum()"
   ]
  },
  {
   "cell_type": "code",
   "execution_count": 289,
   "id": "72cc5e01",
   "metadata": {},
   "outputs": [],
   "source": [
    "x_knn = df_knn_imputed.drop('Life expectancy', axis=1)\n",
    "y_knn = df_knn_imputed['Life expectancy']\n",
    "y_knn = pd.DataFrame(y_knn)"
   ]
  },
  {
   "cell_type": "code",
   "execution_count": 290,
   "id": "a43b7610",
   "metadata": {},
   "outputs": [],
   "source": [
    "x_knn_train, x_knn_test, y_knn_train, y_knn_test =  train_test_split(x_knn,y_knn,test_size=.30)"
   ]
  },
  {
   "cell_type": "code",
   "execution_count": 291,
   "id": "d1ed18d0",
   "metadata": {},
   "outputs": [
    {
     "name": "stdout",
     "output_type": "stream",
     "text": [
      "X_train:  (2056, 21)\n",
      "X_test:  (882, 21)\n",
      "y_train:  (2056, 1)\n",
      "y_test:  (882, 1)\n"
     ]
    }
   ],
   "source": [
    "print(\"X_train: \",x_knn_train.shape)\n",
    "print(\"X_test: \",x_knn_test.shape)\n",
    "print(\"y_train: \",y_knn_train.shape)\n",
    "print(\"y_test: \",y_knn_test.shape)"
   ]
  },
  {
   "cell_type": "code",
   "execution_count": 292,
   "id": "a942a8c7",
   "metadata": {},
   "outputs": [
    {
     "data": {
      "text/html": [
       "<style>#sk-container-id-21 {color: black;}#sk-container-id-21 pre{padding: 0;}#sk-container-id-21 div.sk-toggleable {background-color: white;}#sk-container-id-21 label.sk-toggleable__label {cursor: pointer;display: block;width: 100%;margin-bottom: 0;padding: 0.3em;box-sizing: border-box;text-align: center;}#sk-container-id-21 label.sk-toggleable__label-arrow:before {content: \"▸\";float: left;margin-right: 0.25em;color: #696969;}#sk-container-id-21 label.sk-toggleable__label-arrow:hover:before {color: black;}#sk-container-id-21 div.sk-estimator:hover label.sk-toggleable__label-arrow:before {color: black;}#sk-container-id-21 div.sk-toggleable__content {max-height: 0;max-width: 0;overflow: hidden;text-align: left;background-color: #f0f8ff;}#sk-container-id-21 div.sk-toggleable__content pre {margin: 0.2em;color: black;border-radius: 0.25em;background-color: #f0f8ff;}#sk-container-id-21 input.sk-toggleable__control:checked~div.sk-toggleable__content {max-height: 200px;max-width: 100%;overflow: auto;}#sk-container-id-21 input.sk-toggleable__control:checked~label.sk-toggleable__label-arrow:before {content: \"▾\";}#sk-container-id-21 div.sk-estimator input.sk-toggleable__control:checked~label.sk-toggleable__label {background-color: #d4ebff;}#sk-container-id-21 div.sk-label input.sk-toggleable__control:checked~label.sk-toggleable__label {background-color: #d4ebff;}#sk-container-id-21 input.sk-hidden--visually {border: 0;clip: rect(1px 1px 1px 1px);clip: rect(1px, 1px, 1px, 1px);height: 1px;margin: -1px;overflow: hidden;padding: 0;position: absolute;width: 1px;}#sk-container-id-21 div.sk-estimator {font-family: monospace;background-color: #f0f8ff;border: 1px dotted black;border-radius: 0.25em;box-sizing: border-box;margin-bottom: 0.5em;}#sk-container-id-21 div.sk-estimator:hover {background-color: #d4ebff;}#sk-container-id-21 div.sk-parallel-item::after {content: \"\";width: 100%;border-bottom: 1px solid gray;flex-grow: 1;}#sk-container-id-21 div.sk-label:hover label.sk-toggleable__label {background-color: #d4ebff;}#sk-container-id-21 div.sk-serial::before {content: \"\";position: absolute;border-left: 1px solid gray;box-sizing: border-box;top: 0;bottom: 0;left: 50%;z-index: 0;}#sk-container-id-21 div.sk-serial {display: flex;flex-direction: column;align-items: center;background-color: white;padding-right: 0.2em;padding-left: 0.2em;position: relative;}#sk-container-id-21 div.sk-item {position: relative;z-index: 1;}#sk-container-id-21 div.sk-parallel {display: flex;align-items: stretch;justify-content: center;background-color: white;position: relative;}#sk-container-id-21 div.sk-item::before, #sk-container-id-21 div.sk-parallel-item::before {content: \"\";position: absolute;border-left: 1px solid gray;box-sizing: border-box;top: 0;bottom: 0;left: 50%;z-index: -1;}#sk-container-id-21 div.sk-parallel-item {display: flex;flex-direction: column;z-index: 1;position: relative;background-color: white;}#sk-container-id-21 div.sk-parallel-item:first-child::after {align-self: flex-end;width: 50%;}#sk-container-id-21 div.sk-parallel-item:last-child::after {align-self: flex-start;width: 50%;}#sk-container-id-21 div.sk-parallel-item:only-child::after {width: 0;}#sk-container-id-21 div.sk-dashed-wrapped {border: 1px dashed gray;margin: 0 0.4em 0.5em 0.4em;box-sizing: border-box;padding-bottom: 0.4em;background-color: white;}#sk-container-id-21 div.sk-label label {font-family: monospace;font-weight: bold;display: inline-block;line-height: 1.2em;}#sk-container-id-21 div.sk-label-container {text-align: center;}#sk-container-id-21 div.sk-container {/* jupyter's `normalize.less` sets `[hidden] { display: none; }` but bootstrap.min.css set `[hidden] { display: none !important; }` so we also need the `!important` here to be able to override the default hidden behavior on the sphinx rendered scikit-learn.org. See: https://github.com/scikit-learn/scikit-learn/issues/21755 */display: inline-block !important;position: relative;}#sk-container-id-21 div.sk-text-repr-fallback {display: none;}</style><div id=\"sk-container-id-21\" class=\"sk-top-container\"><div class=\"sk-text-repr-fallback\"><pre>LinearRegression()</pre><b>In a Jupyter environment, please rerun this cell to show the HTML representation or trust the notebook. <br />On GitHub, the HTML representation is unable to render, please try loading this page with nbviewer.org.</b></div><div class=\"sk-container\" hidden><div class=\"sk-item\"><div class=\"sk-estimator sk-toggleable\"><input class=\"sk-toggleable__control sk-hidden--visually\" id=\"sk-estimator-id-21\" type=\"checkbox\" checked><label for=\"sk-estimator-id-21\" class=\"sk-toggleable__label sk-toggleable__label-arrow\">LinearRegression</label><div class=\"sk-toggleable__content\"><pre>LinearRegression()</pre></div></div></div></div></div>"
      ],
      "text/plain": [
       "LinearRegression()"
      ]
     },
     "execution_count": 292,
     "metadata": {},
     "output_type": "execute_result"
    }
   ],
   "source": [
    "linreg_knn = LinearRegression()\n",
    "linreg_knn.fit(x_knn_train,y_knn_train)"
   ]
  },
  {
   "cell_type": "code",
   "execution_count": 293,
   "id": "26918e85",
   "metadata": {},
   "outputs": [],
   "source": [
    "y_knn_pred = linreg_knn.predict(x_knn_test)"
   ]
  },
  {
   "cell_type": "code",
   "execution_count": 294,
   "id": "a5f5c6d2",
   "metadata": {},
   "outputs": [
    {
     "name": "stdout",
     "output_type": "stream",
     "text": [
      "Evaluationsergebnisse von linearer Regression nach KNN-Imputation:\n",
      "\n"
     ]
    },
    {
     "data": {
      "text/html": [
       "<div>\n",
       "<style scoped>\n",
       "    .dataframe tbody tr th:only-of-type {\n",
       "        vertical-align: middle;\n",
       "    }\n",
       "\n",
       "    .dataframe tbody tr th {\n",
       "        vertical-align: top;\n",
       "    }\n",
       "\n",
       "    .dataframe thead th {\n",
       "        text-align: right;\n",
       "    }\n",
       "</style>\n",
       "<table border=\"1\" class=\"dataframe\">\n",
       "  <thead>\n",
       "    <tr style=\"text-align: right;\">\n",
       "      <th></th>\n",
       "      <th>Evalutionsmetriken</th>\n",
       "      <th>Scores</th>\n",
       "    </tr>\n",
       "  </thead>\n",
       "  <tbody>\n",
       "    <tr>\n",
       "      <th>0</th>\n",
       "      <td>Mean-squared-error (MSE)</td>\n",
       "      <td>4.216228</td>\n",
       "    </tr>\n",
       "    <tr>\n",
       "      <th>1</th>\n",
       "      <td>Root-mean-sqaured-error (RMSE)</td>\n",
       "      <td>2.053346</td>\n",
       "    </tr>\n",
       "    <tr>\n",
       "      <th>2</th>\n",
       "      <td>R2-score</td>\n",
       "      <td>0.950944</td>\n",
       "    </tr>\n",
       "    <tr>\n",
       "      <th>3</th>\n",
       "      <td>Angepasster R2-Score</td>\n",
       "      <td>0.949746</td>\n",
       "    </tr>\n",
       "  </tbody>\n",
       "</table>\n",
       "</div>"
      ],
      "text/plain": [
       "               Evalutionsmetriken    Scores\n",
       "0        Mean-squared-error (MSE)  4.216228\n",
       "1  Root-mean-sqaured-error (RMSE)  2.053346\n",
       "2                        R2-score  0.950944\n",
       "3            Angepasster R2-Score  0.949746"
      ]
     },
     "execution_count": 294,
     "metadata": {},
     "output_type": "execute_result"
    }
   ],
   "source": [
    "y_knn_pred = linreg_knn.predict(x_knn_test)\n",
    "mse_knn = mean_squared_error(y_knn_test,y_knn_pred)\n",
    "rmse_knn = sqrt(mse_knn)\n",
    "r2_knn = r2_score(y_knn_test, y_knn_pred)\n",
    "n_knn = x_knn_test.shape[0]  # number of samples\n",
    "k_knn = x_knn_test.shape[1]  # number of features\n",
    "r2_adj_knn = 1 - ((1 - r2_knn) * (n_knn - 1) / (n_knn - k_knn - 1))\n",
    "\n",
    "LinReg_knn = pd.DataFrame({'Evalutionsmetriken': ['Mean-squared-error (MSE)','Root-mean-sqaured-error (RMSE)','R2-score','Angepasster R2-Score'],\n",
    "                               'Scores': [mse_knn, rmse_knn, r2_knn, r2_adj_knn]})\n",
    "print('Evaluationsergebnisse von linearer Regression nach KNN-Imputation:\\n')\n",
    "LinReg_knn"
   ]
  },
  {
   "cell_type": "markdown",
   "id": "b2e75f6c",
   "metadata": {},
   "source": [
    "### 7. (Multivariate Imputation by Chained Equations) MICE-Imputation"
   ]
  },
  {
   "cell_type": "markdown",
   "id": "d444be41",
   "metadata": {},
   "source": [
    "MICE-Imputation, auch als iteratives Imputationsverfahren benannt, betrachtet das Attribut mit den fehlenden Daten\n",
    "als das Zielattribut und imputiert die fehlenden Werte mithilfe deren Beziehungen zwischen anderen Attributen."
   ]
  },
  {
   "cell_type": "code",
   "execution_count": 295,
   "id": "d9ed4070",
   "metadata": {},
   "outputs": [],
   "source": [
    "from sklearn.experimental import enable_iterative_imputer\n",
    "from sklearn.impute import IterativeImputer"
   ]
  },
  {
   "cell_type": "code",
   "execution_count": 296,
   "id": "b48b8f96",
   "metadata": {},
   "outputs": [],
   "source": [
    "imputer = IterativeImputer(max_iter=10, random_state=0)"
   ]
  },
  {
   "cell_type": "code",
   "execution_count": 297,
   "id": "d4547e4f",
   "metadata": {},
   "outputs": [],
   "source": [
    "df_mice_imputed = imputer.fit_transform(df_mice)"
   ]
  },
  {
   "cell_type": "code",
   "execution_count": 298,
   "id": "f3aa9bf6",
   "metadata": {},
   "outputs": [],
   "source": [
    "df_mice_imputed = pd.DataFrame(df_mice_imputed,columns=df_mice.columns)"
   ]
  },
  {
   "cell_type": "code",
   "execution_count": 299,
   "id": "d2731a51",
   "metadata": {},
   "outputs": [
    {
     "data": {
      "text/plain": [
       "Country                            0\n",
       "Year                               0\n",
       "Status                             0\n",
       "Life expectancy                    0\n",
       "Adult Mortality                    0\n",
       "infant deaths                      0\n",
       "Alcohol                            0\n",
       "percentage expenditure             0\n",
       "Hepatitis B                        0\n",
       "Measles                            0\n",
       "BMI                                0\n",
       "under-five deaths                  0\n",
       "Polio                              0\n",
       "Total expenditure                  0\n",
       "Diphtheria                         0\n",
       "HIV/AIDS                           0\n",
       "GDP                                0\n",
       "Population                         0\n",
       "thinness  1-19 years               0\n",
       "thinness 5-9 years                 0\n",
       "Income composition of resources    0\n",
       "Schooling                          0\n",
       "dtype: int64"
      ]
     },
     "execution_count": 299,
     "metadata": {},
     "output_type": "execute_result"
    }
   ],
   "source": [
    "df_mice_imputed.isnull().sum()"
   ]
  },
  {
   "cell_type": "code",
   "execution_count": 300,
   "id": "a4819367",
   "metadata": {},
   "outputs": [],
   "source": [
    "x_mice = df_mice_imputed.drop('Life expectancy',axis=1)\n",
    "y_mice = df_mice_imputed['Life expectancy']\n",
    "y_mice = pd.DataFrame(y_mice)"
   ]
  },
  {
   "cell_type": "code",
   "execution_count": 301,
   "id": "9143d7d0",
   "metadata": {},
   "outputs": [],
   "source": [
    "x_mice_train, x_mice_test, y_mice_train, y_mice_test = train_test_split(x_mice, y_mice, test_size=0.30)"
   ]
  },
  {
   "cell_type": "code",
   "execution_count": 302,
   "id": "51c272e2",
   "metadata": {},
   "outputs": [
    {
     "name": "stdout",
     "output_type": "stream",
     "text": [
      "X_train:  (2056, 21)\n",
      "X_test:  (882, 21)\n",
      "y_train:  (2056, 1)\n",
      "y_test:  (882, 1)\n"
     ]
    }
   ],
   "source": [
    "print(\"X_train: \",x_mean_train.shape)\n",
    "print(\"X_test: \",x_mean_test.shape)\n",
    "print(\"y_train: \",y_mean_train.shape)\n",
    "print(\"y_test: \",y_mean_test.shape)"
   ]
  },
  {
   "cell_type": "code",
   "execution_count": 303,
   "id": "a6d5fe97",
   "metadata": {},
   "outputs": [
    {
     "data": {
      "text/html": [
       "<style>#sk-container-id-22 {color: black;}#sk-container-id-22 pre{padding: 0;}#sk-container-id-22 div.sk-toggleable {background-color: white;}#sk-container-id-22 label.sk-toggleable__label {cursor: pointer;display: block;width: 100%;margin-bottom: 0;padding: 0.3em;box-sizing: border-box;text-align: center;}#sk-container-id-22 label.sk-toggleable__label-arrow:before {content: \"▸\";float: left;margin-right: 0.25em;color: #696969;}#sk-container-id-22 label.sk-toggleable__label-arrow:hover:before {color: black;}#sk-container-id-22 div.sk-estimator:hover label.sk-toggleable__label-arrow:before {color: black;}#sk-container-id-22 div.sk-toggleable__content {max-height: 0;max-width: 0;overflow: hidden;text-align: left;background-color: #f0f8ff;}#sk-container-id-22 div.sk-toggleable__content pre {margin: 0.2em;color: black;border-radius: 0.25em;background-color: #f0f8ff;}#sk-container-id-22 input.sk-toggleable__control:checked~div.sk-toggleable__content {max-height: 200px;max-width: 100%;overflow: auto;}#sk-container-id-22 input.sk-toggleable__control:checked~label.sk-toggleable__label-arrow:before {content: \"▾\";}#sk-container-id-22 div.sk-estimator input.sk-toggleable__control:checked~label.sk-toggleable__label {background-color: #d4ebff;}#sk-container-id-22 div.sk-label input.sk-toggleable__control:checked~label.sk-toggleable__label {background-color: #d4ebff;}#sk-container-id-22 input.sk-hidden--visually {border: 0;clip: rect(1px 1px 1px 1px);clip: rect(1px, 1px, 1px, 1px);height: 1px;margin: -1px;overflow: hidden;padding: 0;position: absolute;width: 1px;}#sk-container-id-22 div.sk-estimator {font-family: monospace;background-color: #f0f8ff;border: 1px dotted black;border-radius: 0.25em;box-sizing: border-box;margin-bottom: 0.5em;}#sk-container-id-22 div.sk-estimator:hover {background-color: #d4ebff;}#sk-container-id-22 div.sk-parallel-item::after {content: \"\";width: 100%;border-bottom: 1px solid gray;flex-grow: 1;}#sk-container-id-22 div.sk-label:hover label.sk-toggleable__label {background-color: #d4ebff;}#sk-container-id-22 div.sk-serial::before {content: \"\";position: absolute;border-left: 1px solid gray;box-sizing: border-box;top: 0;bottom: 0;left: 50%;z-index: 0;}#sk-container-id-22 div.sk-serial {display: flex;flex-direction: column;align-items: center;background-color: white;padding-right: 0.2em;padding-left: 0.2em;position: relative;}#sk-container-id-22 div.sk-item {position: relative;z-index: 1;}#sk-container-id-22 div.sk-parallel {display: flex;align-items: stretch;justify-content: center;background-color: white;position: relative;}#sk-container-id-22 div.sk-item::before, #sk-container-id-22 div.sk-parallel-item::before {content: \"\";position: absolute;border-left: 1px solid gray;box-sizing: border-box;top: 0;bottom: 0;left: 50%;z-index: -1;}#sk-container-id-22 div.sk-parallel-item {display: flex;flex-direction: column;z-index: 1;position: relative;background-color: white;}#sk-container-id-22 div.sk-parallel-item:first-child::after {align-self: flex-end;width: 50%;}#sk-container-id-22 div.sk-parallel-item:last-child::after {align-self: flex-start;width: 50%;}#sk-container-id-22 div.sk-parallel-item:only-child::after {width: 0;}#sk-container-id-22 div.sk-dashed-wrapped {border: 1px dashed gray;margin: 0 0.4em 0.5em 0.4em;box-sizing: border-box;padding-bottom: 0.4em;background-color: white;}#sk-container-id-22 div.sk-label label {font-family: monospace;font-weight: bold;display: inline-block;line-height: 1.2em;}#sk-container-id-22 div.sk-label-container {text-align: center;}#sk-container-id-22 div.sk-container {/* jupyter's `normalize.less` sets `[hidden] { display: none; }` but bootstrap.min.css set `[hidden] { display: none !important; }` so we also need the `!important` here to be able to override the default hidden behavior on the sphinx rendered scikit-learn.org. See: https://github.com/scikit-learn/scikit-learn/issues/21755 */display: inline-block !important;position: relative;}#sk-container-id-22 div.sk-text-repr-fallback {display: none;}</style><div id=\"sk-container-id-22\" class=\"sk-top-container\"><div class=\"sk-text-repr-fallback\"><pre>LinearRegression()</pre><b>In a Jupyter environment, please rerun this cell to show the HTML representation or trust the notebook. <br />On GitHub, the HTML representation is unable to render, please try loading this page with nbviewer.org.</b></div><div class=\"sk-container\" hidden><div class=\"sk-item\"><div class=\"sk-estimator sk-toggleable\"><input class=\"sk-toggleable__control sk-hidden--visually\" id=\"sk-estimator-id-22\" type=\"checkbox\" checked><label for=\"sk-estimator-id-22\" class=\"sk-toggleable__label sk-toggleable__label-arrow\">LinearRegression</label><div class=\"sk-toggleable__content\"><pre>LinearRegression()</pre></div></div></div></div></div>"
      ],
      "text/plain": [
       "LinearRegression()"
      ]
     },
     "execution_count": 303,
     "metadata": {},
     "output_type": "execute_result"
    }
   ],
   "source": [
    "linreg_mice = LinearRegression()\n",
    "linreg_mice.fit(x_mice_train,y_mice_train)"
   ]
  },
  {
   "cell_type": "code",
   "execution_count": 304,
   "id": "f7d5b070",
   "metadata": {},
   "outputs": [],
   "source": [
    "y_mice_pred = linreg_mice.predict(x_mice_test)"
   ]
  },
  {
   "cell_type": "code",
   "execution_count": 305,
   "id": "fbcc9b69",
   "metadata": {},
   "outputs": [
    {
     "name": "stdout",
     "output_type": "stream",
     "text": [
      "Evaluationsergebnisse von linearer Regression nach MICE-Imputation:\n",
      "\n"
     ]
    },
    {
     "data": {
      "text/html": [
       "<div>\n",
       "<style scoped>\n",
       "    .dataframe tbody tr th:only-of-type {\n",
       "        vertical-align: middle;\n",
       "    }\n",
       "\n",
       "    .dataframe tbody tr th {\n",
       "        vertical-align: top;\n",
       "    }\n",
       "\n",
       "    .dataframe thead th {\n",
       "        text-align: right;\n",
       "    }\n",
       "</style>\n",
       "<table border=\"1\" class=\"dataframe\">\n",
       "  <thead>\n",
       "    <tr style=\"text-align: right;\">\n",
       "      <th></th>\n",
       "      <th>Evalutionsmetriken</th>\n",
       "      <th>Scores</th>\n",
       "    </tr>\n",
       "  </thead>\n",
       "  <tbody>\n",
       "    <tr>\n",
       "      <th>0</th>\n",
       "      <td>Mean-squared-error (MSE)</td>\n",
       "      <td>3.675073</td>\n",
       "    </tr>\n",
       "    <tr>\n",
       "      <th>1</th>\n",
       "      <td>Root-mean-sqaured-error (RMSE)</td>\n",
       "      <td>1.917048</td>\n",
       "    </tr>\n",
       "    <tr>\n",
       "      <th>2</th>\n",
       "      <td>R2-score</td>\n",
       "      <td>0.959091</td>\n",
       "    </tr>\n",
       "    <tr>\n",
       "      <th>3</th>\n",
       "      <td>Angepasster R2-Score</td>\n",
       "      <td>0.958092</td>\n",
       "    </tr>\n",
       "  </tbody>\n",
       "</table>\n",
       "</div>"
      ],
      "text/plain": [
       "               Evalutionsmetriken    Scores\n",
       "0        Mean-squared-error (MSE)  3.675073\n",
       "1  Root-mean-sqaured-error (RMSE)  1.917048\n",
       "2                        R2-score  0.959091\n",
       "3            Angepasster R2-Score  0.958092"
      ]
     },
     "execution_count": 305,
     "metadata": {},
     "output_type": "execute_result"
    }
   ],
   "source": [
    "mse_mice = mean_squared_error(y_mice_test,y_mice_pred)\n",
    "rmse_mice = sqrt(mse_mice)\n",
    "r2_mice = r2_score(y_mice_test, y_mice_pred)\n",
    "n_mice = x_mice_test.shape[0]  # number of samples\n",
    "k_mice = x_mice_test.shape[1]  # number of features\n",
    "r2_adj_mice = 1 - ((1 - r2_mice) * (n_mice - 1) / (n_mice - k_mice - 1))\n",
    "\n",
    "\n",
    "LinReg_mice = pd.DataFrame({'Evalutionsmetriken': ['Mean-squared-error (MSE)','Root-mean-sqaured-error (RMSE)','R2-score','Angepasster R2-Score'],\n",
    "                               'Scores': [mse_mice, rmse_mice, r2_mice, r2_adj_mice]})\n",
    "print('Evaluationsergebnisse von linearer Regression nach MICE-Imputation:\\n')\n",
    "LinReg_mice"
   ]
  },
  {
   "cell_type": "markdown",
   "id": "eb88d642",
   "metadata": {},
   "source": [
    "#### Dir Algorithmen (8) MissForest mit SVM Klassifizierer, (9) Expectation Maximization-Algorithmus, und (10) LSTM-Verfahren müssen immer noch implementiert werden."
   ]
  },
  {
   "cell_type": "markdown",
   "id": "bb074150",
   "metadata": {},
   "source": [
    "## Vergleich der Evaluationsergebnisse"
   ]
  },
  {
   "cell_type": "code",
   "execution_count": 306,
   "id": "2955f9c9",
   "metadata": {},
   "outputs": [
    {
     "name": "stdout",
     "output_type": "stream",
     "text": [
      "Mean-squared-error (MSE): \n",
      "\n",
      "  Imputationsverfahren  Mean-squared-error(MSE)\n",
      "0              Löschen                 3.477944\n",
      "1   Forward-Imputation                 3.546261\n",
      "2  Backward-Imputation                 4.318151\n",
      "3      Mean-Imputation                 3.819892\n",
      "4    Median-Imputation                 3.682943\n",
      "5       KNN-Imputation                 4.216228\n",
      "6      MICE-Imputation                 3.675073 \n",
      "\n",
      "Root-mean-squared-error (RMSE): \n",
      "\n",
      "  Imputationsverfahren  Root-mean-squared-error (RMSE)\n",
      "0              Löschen                        1.864925\n",
      "1   Forward-Imputation                        1.883152\n",
      "2  Backward-Imputation                        2.078016\n",
      "3      Mean-Imputation                        1.954454\n",
      "4    Median-Imputation                        1.919100\n",
      "5       KNN-Imputation                        2.053346\n",
      "6      MICE-Imputation                        1.917048 \n",
      "\n",
      "R2-Score: \n",
      "\n",
      "  Imputationsverfahren  R2-Scores\n",
      "0              Löschen   0.951601\n",
      "1   Forward-Imputation   0.960014\n",
      "2  Backward-Imputation   0.952291\n",
      "3      Mean-Imputation   0.961368\n",
      "4    Median-Imputation   0.958909\n",
      "5       KNN-Imputation   0.950944\n",
      "6      MICE-Imputation   0.959091 \n",
      "\n",
      "Adjustierter R2-Score: \n",
      "\n",
      "  Imputationsverfahren  Angepasster R2-Scores\n",
      "0              Löschen               0.949453\n",
      "1   Forward-Imputation               0.959037\n",
      "2  Backward-Imputation               0.951126\n",
      "3      Mean-Imputation               0.960424\n",
      "4    Median-Imputation               0.957906\n",
      "5       KNN-Imputation               0.949746\n",
      "6      MICE-Imputation               0.958092 \n",
      "\n"
     ]
    }
   ],
   "source": [
    "Imputationsergebnis_mse = pd.DataFrame({'Imputationsverfahren': ['Löschen','Forward-Imputation','Backward-Imputation','Mean-Imputation','Median-Imputation','KNN-Imputation','MICE-Imputation'],\n",
    "                               'Mean-squared-error(MSE)': [mse_löschen,mse_forward,mse_backward,mse_mean,mse_median,mse_knn,mse_mice]})\n",
    "print('Mean-squared-error (MSE):','\\n')\n",
    "print(Imputationsergebnis_mse,'\\n')\n",
    "Imputationsergebnis_rmse = pd.DataFrame({'Imputationsverfahren': ['Löschen','Forward-Imputation','Backward-Imputation','Mean-Imputation','Median-Imputation','KNN-Imputation','MICE-Imputation'],\n",
    "                               'Root-mean-squared-error (RMSE)': [rmse_löschen,rmse_forward,rmse_backward,rmse_mean,rmse_median,rmse_knn,rmse_mice]})\n",
    "print('Root-mean-squared-error (RMSE):','\\n')\n",
    "print(Imputationsergebnis_rmse,'\\n')\n",
    "Imputationsergebnis_r2 = pd.DataFrame({'Imputationsverfahren': ['Löschen','Forward-Imputation','Backward-Imputation','Mean-Imputation','Median-Imputation','KNN-Imputation','MICE-Imputation'],\n",
    "                               'R2-Scores': [r2_löschen,r2_forward,r2_backward,r2_mean,r2_median,r2_knn,r2_mice]})\n",
    "print('R2-Score:','\\n')\n",
    "print(Imputationsergebnis_r2,'\\n')\n",
    "Imputationsergebnis_r2_adj = pd.DataFrame({'Imputationsverfahren': ['Löschen','Forward-Imputation','Backward-Imputation','Mean-Imputation','Median-Imputation','KNN-Imputation','MICE-Imputation'],\n",
    "                               'Angepasster R2-Scores': [r2_adj_löschen,r2_adj_forward,r2_adj_backward,r2_adj_mean,r2_adj_median,r2_adj_knn,r2_adj_mice]})\n",
    "print('Adjustierter R2-Score:','\\n')\n",
    "print(Imputationsergebnis_r2_adj,'\\n')"
   ]
  },
  {
   "cell_type": "code",
   "execution_count": null,
   "id": "0b1eb4f3",
   "metadata": {},
   "outputs": [],
   "source": []
  }
 ],
 "metadata": {
  "kernelspec": {
   "display_name": "Python 3 (ipykernel)",
   "language": "python",
   "name": "python3"
  },
  "language_info": {
   "codemirror_mode": {
    "name": "ipython",
    "version": 3
   },
   "file_extension": ".py",
   "mimetype": "text/x-python",
   "name": "python",
   "nbconvert_exporter": "python",
   "pygments_lexer": "ipython3",
   "version": "3.11.5"
  }
 },
 "nbformat": 4,
 "nbformat_minor": 5
}
